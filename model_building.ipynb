{
 "cells": [
  {
   "cell_type": "markdown",
   "metadata": {},
   "source": [
    "# What's in this notebook?\n",
    "Developing and testing models.\n",
    "- Models:\n",
    "    - Logistic regression\n",
    "    - KNN\n",
    "    - SVM\n",
    "    - Random Forest\n",
    "    - XGBoost\n",
    "    \n",
    "- Evaluation Metrics:\n",
    "    - ROC-AUC\n",
    "    - Accuracy score\n",
    "    - F1 score\n",
    "    \n",
    "- Other things to note:\n",
    "    - PCA used in conjunction with models"
   ]
  },
  {
   "cell_type": "code",
   "execution_count": 266,
   "metadata": {},
   "outputs": [],
   "source": [
    "import pandas as pd\n",
    "import numpy as np\n",
    "import matplotlib.pyplot as plt\n",
    "import seaborn as sns\n",
    "import pickle\n",
    "# I'll import sklearn models as needed"
   ]
  },
  {
   "cell_type": "code",
   "execution_count": 31,
   "metadata": {},
   "outputs": [],
   "source": [
    "with open('model_data.pickle', 'rb') as f:\n",
    "    data = pickle.load(f)"
   ]
  },
  {
   "cell_type": "code",
   "execution_count": 69,
   "metadata": {},
   "outputs": [],
   "source": [
    "pd.set_option('display.max_columns', 500)"
   ]
  },
  {
   "cell_type": "code",
   "execution_count": 71,
   "metadata": {},
   "outputs": [
    {
     "data": {
      "text/plain": [
       "26"
      ]
     },
     "execution_count": 71,
     "metadata": {},
     "output_type": "execute_result"
    }
   ],
   "source": [
    "len(data.columns)"
   ]
  },
  {
   "cell_type": "code",
   "execution_count": 32,
   "metadata": {},
   "outputs": [
    {
     "data": {
      "text/html": [
       "<div>\n",
       "<style scoped>\n",
       "    .dataframe tbody tr th:only-of-type {\n",
       "        vertical-align: middle;\n",
       "    }\n",
       "\n",
       "    .dataframe tbody tr th {\n",
       "        vertical-align: top;\n",
       "    }\n",
       "\n",
       "    .dataframe thead th {\n",
       "        text-align: right;\n",
       "    }\n",
       "</style>\n",
       "<table border=\"1\" class=\"dataframe\">\n",
       "  <thead>\n",
       "    <tr style=\"text-align: right;\">\n",
       "      <th></th>\n",
       "      <th>acousticness</th>\n",
       "      <th>danceability</th>\n",
       "      <th>duration_ms</th>\n",
       "      <th>energy</th>\n",
       "      <th>instrumentalness</th>\n",
       "      <th>key</th>\n",
       "      <th>liveness</th>\n",
       "      <th>loudness</th>\n",
       "      <th>mode</th>\n",
       "      <th>speechiness</th>\n",
       "      <th>...</th>\n",
       "      <th>sec_duration_range</th>\n",
       "      <th>seg_duration_range</th>\n",
       "      <th>sec_loudness_range</th>\n",
       "      <th>sec_key_range</th>\n",
       "      <th>sec_tempo_range</th>\n",
       "      <th>sec_mode_range</th>\n",
       "      <th>sec_time_signature_range</th>\n",
       "      <th>no_unique_pitches</th>\n",
       "      <th>no_unique_timbres</th>\n",
       "      <th>mean_pitch</th>\n",
       "    </tr>\n",
       "    <tr>\n",
       "      <th>id</th>\n",
       "      <th></th>\n",
       "      <th></th>\n",
       "      <th></th>\n",
       "      <th></th>\n",
       "      <th></th>\n",
       "      <th></th>\n",
       "      <th></th>\n",
       "      <th></th>\n",
       "      <th></th>\n",
       "      <th></th>\n",
       "      <th></th>\n",
       "      <th></th>\n",
       "      <th></th>\n",
       "      <th></th>\n",
       "      <th></th>\n",
       "      <th></th>\n",
       "      <th></th>\n",
       "      <th></th>\n",
       "      <th></th>\n",
       "      <th></th>\n",
       "      <th></th>\n",
       "    </tr>\n",
       "  </thead>\n",
       "  <tbody>\n",
       "    <tr>\n",
       "      <th>4cCio6f3kmmufjWVsEfMu0</th>\n",
       "      <td>0.964</td>\n",
       "      <td>0.294</td>\n",
       "      <td>16027</td>\n",
       "      <td>0.0783</td>\n",
       "      <td>0.923</td>\n",
       "      <td>0</td>\n",
       "      <td>0.597</td>\n",
       "      <td>-23.044</td>\n",
       "      <td>1</td>\n",
       "      <td>0.0400</td>\n",
       "      <td>...</td>\n",
       "      <td>NaN</td>\n",
       "      <td>NaN</td>\n",
       "      <td>NaN</td>\n",
       "      <td>NaN</td>\n",
       "      <td>NaN</td>\n",
       "      <td>NaN</td>\n",
       "      <td>NaN</td>\n",
       "      <td>328</td>\n",
       "      <td>130</td>\n",
       "      <td>0.319427</td>\n",
       "    </tr>\n",
       "    <tr>\n",
       "      <th>6AyIvQ7Npap06gZzsHU3Hy</th>\n",
       "      <td>0.927</td>\n",
       "      <td>0.179</td>\n",
       "      <td>15427</td>\n",
       "      <td>0.1410</td>\n",
       "      <td>0.916</td>\n",
       "      <td>7</td>\n",
       "      <td>0.189</td>\n",
       "      <td>-21.892</td>\n",
       "      <td>0</td>\n",
       "      <td>0.0555</td>\n",
       "      <td>...</td>\n",
       "      <td>NaN</td>\n",
       "      <td>NaN</td>\n",
       "      <td>NaN</td>\n",
       "      <td>NaN</td>\n",
       "      <td>NaN</td>\n",
       "      <td>NaN</td>\n",
       "      <td>NaN</td>\n",
       "      <td>347</td>\n",
       "      <td>160</td>\n",
       "      <td>0.387112</td>\n",
       "    </tr>\n",
       "  </tbody>\n",
       "</table>\n",
       "<p>2 rows × 26 columns</p>\n",
       "</div>"
      ],
      "text/plain": [
       "                        acousticness  danceability  duration_ms  energy  \\\n",
       "id                                                                        \n",
       "4cCio6f3kmmufjWVsEfMu0         0.964         0.294        16027  0.0783   \n",
       "6AyIvQ7Npap06gZzsHU3Hy         0.927         0.179        15427  0.1410   \n",
       "\n",
       "                        instrumentalness  key  liveness  loudness  mode  \\\n",
       "id                                                                        \n",
       "4cCio6f3kmmufjWVsEfMu0             0.923    0     0.597   -23.044     1   \n",
       "6AyIvQ7Npap06gZzsHU3Hy             0.916    7     0.189   -21.892     0   \n",
       "\n",
       "                        speechiness  ...  sec_duration_range  \\\n",
       "id                                   ...                       \n",
       "4cCio6f3kmmufjWVsEfMu0       0.0400  ...                 NaN   \n",
       "6AyIvQ7Npap06gZzsHU3Hy       0.0555  ...                 NaN   \n",
       "\n",
       "                        seg_duration_range  sec_loudness_range  sec_key_range  \\\n",
       "id                                                                              \n",
       "4cCio6f3kmmufjWVsEfMu0                 NaN                 NaN            NaN   \n",
       "6AyIvQ7Npap06gZzsHU3Hy                 NaN                 NaN            NaN   \n",
       "\n",
       "                        sec_tempo_range  sec_mode_range  \\\n",
       "id                                                        \n",
       "4cCio6f3kmmufjWVsEfMu0              NaN             NaN   \n",
       "6AyIvQ7Npap06gZzsHU3Hy              NaN             NaN   \n",
       "\n",
       "                        sec_time_signature_range  no_unique_pitches  \\\n",
       "id                                                                    \n",
       "4cCio6f3kmmufjWVsEfMu0                       NaN                328   \n",
       "6AyIvQ7Npap06gZzsHU3Hy                       NaN                347   \n",
       "\n",
       "                        no_unique_timbres  mean_pitch  \n",
       "id                                                     \n",
       "4cCio6f3kmmufjWVsEfMu0                130    0.319427  \n",
       "6AyIvQ7Npap06gZzsHU3Hy                160    0.387112  \n",
       "\n",
       "[2 rows x 26 columns]"
      ]
     },
     "execution_count": 32,
     "metadata": {},
     "output_type": "execute_result"
    }
   ],
   "source": [
    "data[data.isnull().any(axis=1)]"
   ]
  },
  {
   "cell_type": "code",
   "execution_count": 33,
   "metadata": {},
   "outputs": [],
   "source": [
    "data.drop(['4cCio6f3kmmufjWVsEfMu0', '6AyIvQ7Npap06gZzsHU3Hy'], inplace=True)"
   ]
  },
  {
   "cell_type": "code",
   "execution_count": 34,
   "metadata": {},
   "outputs": [],
   "source": [
    "X = data.drop('ballet', axis=1)\n",
    "y = data['ballet']"
   ]
  },
  {
   "cell_type": "code",
   "execution_count": 35,
   "metadata": {
    "collapsed": true
   },
   "outputs": [
    {
     "name": "stderr",
     "output_type": "stream",
     "text": [
      "/Users/hannah/anaconda3/lib/python3.7/site-packages/sklearn/preprocessing/data.py:645: DataConversionWarning: Data with input dtype int64, float64 were all converted to float64 by StandardScaler.\n",
      "  return self.partial_fit(X, y)\n",
      "/Users/hannah/anaconda3/lib/python3.7/site-packages/ipykernel_launcher.py:5: DataConversionWarning: Data with input dtype int64, float64 were all converted to float64 by StandardScaler.\n",
      "  \"\"\"\n"
     ]
    },
    {
     "data": {
      "text/html": [
       "<div>\n",
       "<style scoped>\n",
       "    .dataframe tbody tr th:only-of-type {\n",
       "        vertical-align: middle;\n",
       "    }\n",
       "\n",
       "    .dataframe tbody tr th {\n",
       "        vertical-align: top;\n",
       "    }\n",
       "\n",
       "    .dataframe thead th {\n",
       "        text-align: right;\n",
       "    }\n",
       "</style>\n",
       "<table border=\"1\" class=\"dataframe\">\n",
       "  <thead>\n",
       "    <tr style=\"text-align: right;\">\n",
       "      <th></th>\n",
       "      <th>no_unique_timbres</th>\n",
       "      <th>tempo</th>\n",
       "      <th>valence</th>\n",
       "      <th>danceability</th>\n",
       "      <th>instrumentalness</th>\n",
       "      <th>duration_ms</th>\n",
       "      <th>acousticness</th>\n",
       "      <th>speechiness</th>\n",
       "      <th>sec_time_signature_range</th>\n",
       "      <th>seg_duration_range</th>\n",
       "      <th>...</th>\n",
       "      <th>sec_key_range</th>\n",
       "      <th>liveness</th>\n",
       "      <th>time_signature</th>\n",
       "      <th>sec_mode_range</th>\n",
       "      <th>sec_duration_range</th>\n",
       "      <th>no_unique_pitches</th>\n",
       "      <th>no_segments</th>\n",
       "      <th>mean_pitch</th>\n",
       "      <th>mode</th>\n",
       "      <th>no_sections</th>\n",
       "    </tr>\n",
       "  </thead>\n",
       "  <tbody>\n",
       "    <tr>\n",
       "      <th>0</th>\n",
       "      <td>0.381652</td>\n",
       "      <td>-0.868784</td>\n",
       "      <td>-0.647385</td>\n",
       "      <td>-1.020334</td>\n",
       "      <td>0.961208</td>\n",
       "      <td>-0.597610</td>\n",
       "      <td>-0.345203</td>\n",
       "      <td>-3.066970</td>\n",
       "      <td>0.661342</td>\n",
       "      <td>-0.399516</td>\n",
       "      <td>...</td>\n",
       "      <td>-0.114207</td>\n",
       "      <td>-0.114207</td>\n",
       "      <td>-0.751827</td>\n",
       "      <td>-0.206105</td>\n",
       "      <td>-0.293466</td>\n",
       "      <td>0.466921</td>\n",
       "      <td>-0.695168</td>\n",
       "      <td>-0.311422</td>\n",
       "      <td>-0.049848</td>\n",
       "      <td>-0.230527</td>\n",
       "    </tr>\n",
       "    <tr>\n",
       "      <th>1</th>\n",
       "      <td>-3.916531</td>\n",
       "      <td>-0.868784</td>\n",
       "      <td>-0.816355</td>\n",
       "      <td>-0.581445</td>\n",
       "      <td>0.636082</td>\n",
       "      <td>-1.174172</td>\n",
       "      <td>-0.418860</td>\n",
       "      <td>-2.066163</td>\n",
       "      <td>0.661342</td>\n",
       "      <td>-0.250176</td>\n",
       "      <td>...</td>\n",
       "      <td>-0.616202</td>\n",
       "      <td>-0.616202</td>\n",
       "      <td>-0.902028</td>\n",
       "      <td>-0.585274</td>\n",
       "      <td>-0.550939</td>\n",
       "      <td>0.466921</td>\n",
       "      <td>-0.695168</td>\n",
       "      <td>-0.477337</td>\n",
       "      <td>-1.275272</td>\n",
       "      <td>-0.303023</td>\n",
       "    </tr>\n",
       "    <tr>\n",
       "      <th>2</th>\n",
       "      <td>0.566415</td>\n",
       "      <td>-1.271590</td>\n",
       "      <td>-0.650258</td>\n",
       "      <td>-0.380097</td>\n",
       "      <td>0.569852</td>\n",
       "      <td>1.708639</td>\n",
       "      <td>3.735404</td>\n",
       "      <td>-0.018884</td>\n",
       "      <td>-1.512077</td>\n",
       "      <td>-0.360216</td>\n",
       "      <td>...</td>\n",
       "      <td>-0.614479</td>\n",
       "      <td>-0.614479</td>\n",
       "      <td>0.348017</td>\n",
       "      <td>0.552233</td>\n",
       "      <td>-0.621966</td>\n",
       "      <td>0.466921</td>\n",
       "      <td>-0.695168</td>\n",
       "      <td>0.131017</td>\n",
       "      <td>-0.301217</td>\n",
       "      <td>0.188947</td>\n",
       "    </tr>\n",
       "    <tr>\n",
       "      <th>3</th>\n",
       "      <td>0.391376</td>\n",
       "      <td>0.828753</td>\n",
       "      <td>-0.828020</td>\n",
       "      <td>1.725991</td>\n",
       "      <td>-1.462189</td>\n",
       "      <td>0.843796</td>\n",
       "      <td>4.663484</td>\n",
       "      <td>0.347440</td>\n",
       "      <td>-1.512077</td>\n",
       "      <td>-0.175506</td>\n",
       "      <td>...</td>\n",
       "      <td>-1.294138</td>\n",
       "      <td>-1.294138</td>\n",
       "      <td>-0.875000</td>\n",
       "      <td>0.173064</td>\n",
       "      <td>-0.641776</td>\n",
       "      <td>0.466921</td>\n",
       "      <td>0.617859</td>\n",
       "      <td>-0.138594</td>\n",
       "      <td>-0.254085</td>\n",
       "      <td>0.222484</td>\n",
       "    </tr>\n",
       "    <tr>\n",
       "      <th>4</th>\n",
       "      <td>0.673384</td>\n",
       "      <td>0.713665</td>\n",
       "      <td>-0.918203</td>\n",
       "      <td>1.793956</td>\n",
       "      <td>0.726394</td>\n",
       "      <td>1.132077</td>\n",
       "      <td>-0.433591</td>\n",
       "      <td>-0.151547</td>\n",
       "      <td>0.661342</td>\n",
       "      <td>0.614424</td>\n",
       "      <td>...</td>\n",
       "      <td>-0.860099</td>\n",
       "      <td>-0.860099</td>\n",
       "      <td>-0.646890</td>\n",
       "      <td>-1.343613</td>\n",
       "      <td>-0.608379</td>\n",
       "      <td>-2.141691</td>\n",
       "      <td>-0.695168</td>\n",
       "      <td>-0.581033</td>\n",
       "      <td>-0.615428</td>\n",
       "      <td>-0.555043</td>\n",
       "    </tr>\n",
       "    <tr>\n",
       "      <th>5</th>\n",
       "      <td>0.371927</td>\n",
       "      <td>-1.134924</td>\n",
       "      <td>-0.072567</td>\n",
       "      <td>-0.671500</td>\n",
       "      <td>0.774561</td>\n",
       "      <td>1.132077</td>\n",
       "      <td>0.796483</td>\n",
       "      <td>-0.731865</td>\n",
       "      <td>0.661342</td>\n",
       "      <td>-0.301266</td>\n",
       "      <td>...</td>\n",
       "      <td>-0.300452</td>\n",
       "      <td>-0.300452</td>\n",
       "      <td>-0.499783</td>\n",
       "      <td>-0.206105</td>\n",
       "      <td>-0.515867</td>\n",
       "      <td>0.466921</td>\n",
       "      <td>1.274372</td>\n",
       "      <td>0.587282</td>\n",
       "      <td>0.484312</td>\n",
       "      <td>0.517400</td>\n",
       "    </tr>\n",
       "    <tr>\n",
       "      <th>6</th>\n",
       "      <td>0.595588</td>\n",
       "      <td>-1.142117</td>\n",
       "      <td>-0.640317</td>\n",
       "      <td>-0.900884</td>\n",
       "      <td>-1.170177</td>\n",
       "      <td>1.132077</td>\n",
       "      <td>1.555152</td>\n",
       "      <td>-1.407847</td>\n",
       "      <td>-1.512077</td>\n",
       "      <td>0.048504</td>\n",
       "      <td>...</td>\n",
       "      <td>-1.064762</td>\n",
       "      <td>-1.064762</td>\n",
       "      <td>-0.968621</td>\n",
       "      <td>0.931402</td>\n",
       "      <td>-0.635773</td>\n",
       "      <td>0.466921</td>\n",
       "      <td>0.617859</td>\n",
       "      <td>-1.085690</td>\n",
       "      <td>0.500022</td>\n",
       "      <td>-1.069639</td>\n",
       "    </tr>\n",
       "    <tr>\n",
       "      <th>7</th>\n",
       "      <td>0.498344</td>\n",
       "      <td>0.116650</td>\n",
       "      <td>-0.646282</td>\n",
       "      <td>0.715001</td>\n",
       "      <td>0.503623</td>\n",
       "      <td>-0.885891</td>\n",
       "      <td>0.752289</td>\n",
       "      <td>-0.325042</td>\n",
       "      <td>0.661342</td>\n",
       "      <td>-0.037956</td>\n",
       "      <td>...</td>\n",
       "      <td>-0.798268</td>\n",
       "      <td>-0.798268</td>\n",
       "      <td>-0.822735</td>\n",
       "      <td>-0.585274</td>\n",
       "      <td>-0.567937</td>\n",
       "      <td>0.466921</td>\n",
       "      <td>-1.351682</td>\n",
       "      <td>0.310758</td>\n",
       "      <td>-0.364059</td>\n",
       "      <td>0.349508</td>\n",
       "    </tr>\n",
       "    <tr>\n",
       "      <th>8</th>\n",
       "      <td>0.780352</td>\n",
       "      <td>-0.127910</td>\n",
       "      <td>-0.913520</td>\n",
       "      <td>-1.040214</td>\n",
       "      <td>-0.122547</td>\n",
       "      <td>1.420358</td>\n",
       "      <td>0.258786</td>\n",
       "      <td>-2.457153</td>\n",
       "      <td>0.661342</td>\n",
       "      <td>-0.049746</td>\n",
       "      <td>...</td>\n",
       "      <td>-1.318813</td>\n",
       "      <td>-1.318813</td>\n",
       "      <td>-1.190055</td>\n",
       "      <td>-0.585274</td>\n",
       "      <td>-0.793056</td>\n",
       "      <td>-2.141691</td>\n",
       "      <td>-0.695168</td>\n",
       "      <td>-3.083578</td>\n",
       "      <td>-0.772534</td>\n",
       "      <td>-3.736436</td>\n",
       "    </tr>\n",
       "    <tr>\n",
       "      <th>9</th>\n",
       "      <td>0.391376</td>\n",
       "      <td>-1.490256</td>\n",
       "      <td>-0.324250</td>\n",
       "      <td>-0.888140</td>\n",
       "      <td>0.792624</td>\n",
       "      <td>1.708639</td>\n",
       "      <td>-0.455688</td>\n",
       "      <td>-1.476179</td>\n",
       "      <td>0.661342</td>\n",
       "      <td>-0.085116</td>\n",
       "      <td>...</td>\n",
       "      <td>0.187176</td>\n",
       "      <td>0.187176</td>\n",
       "      <td>-0.600975</td>\n",
       "      <td>0.552233</td>\n",
       "      <td>1.006568</td>\n",
       "      <td>0.466921</td>\n",
       "      <td>0.617859</td>\n",
       "      <td>0.213974</td>\n",
       "      <td>0.028705</td>\n",
       "      <td>0.239879</td>\n",
       "    </tr>\n",
       "    <tr>\n",
       "      <th>10</th>\n",
       "      <td>0.566415</td>\n",
       "      <td>-0.322120</td>\n",
       "      <td>-0.800888</td>\n",
       "      <td>-0.354610</td>\n",
       "      <td>0.326007</td>\n",
       "      <td>1.420358</td>\n",
       "      <td>1.437301</td>\n",
       "      <td>-0.235045</td>\n",
       "      <td>0.661342</td>\n",
       "      <td>-0.254106</td>\n",
       "      <td>...</td>\n",
       "      <td>-1.115170</td>\n",
       "      <td>-1.115170</td>\n",
       "      <td>-0.707540</td>\n",
       "      <td>0.552233</td>\n",
       "      <td>-0.684399</td>\n",
       "      <td>-2.141691</td>\n",
       "      <td>-0.038655</td>\n",
       "      <td>-0.601773</td>\n",
       "      <td>-0.552586</td>\n",
       "      <td>-0.562545</td>\n",
       "    </tr>\n",
       "    <tr>\n",
       "      <th>11</th>\n",
       "      <td>0.070471</td>\n",
       "      <td>0.605771</td>\n",
       "      <td>-0.833674</td>\n",
       "      <td>4.036824</td>\n",
       "      <td>0.536737</td>\n",
       "      <td>0.555515</td>\n",
       "      <td>0.936432</td>\n",
       "      <td>1.667405</td>\n",
       "      <td>-1.512077</td>\n",
       "      <td>-0.258036</td>\n",
       "      <td>...</td>\n",
       "      <td>-0.772753</td>\n",
       "      <td>-0.772753</td>\n",
       "      <td>-0.950873</td>\n",
       "      <td>-0.585274</td>\n",
       "      <td>-0.758016</td>\n",
       "      <td>0.466921</td>\n",
       "      <td>1.274372</td>\n",
       "      <td>-0.339074</td>\n",
       "      <td>-0.992481</td>\n",
       "      <td>0.021379</td>\n",
       "    </tr>\n",
       "    <tr>\n",
       "      <th>12</th>\n",
       "      <td>-0.289332</td>\n",
       "      <td>-0.926328</td>\n",
       "      <td>-0.886034</td>\n",
       "      <td>-0.708881</td>\n",
       "      <td>0.720374</td>\n",
       "      <td>1.420358</td>\n",
       "      <td>3.610187</td>\n",
       "      <td>-0.361875</td>\n",
       "      <td>0.661342</td>\n",
       "      <td>-0.470256</td>\n",
       "      <td>...</td>\n",
       "      <td>-0.523113</td>\n",
       "      <td>-0.523113</td>\n",
       "      <td>-0.409255</td>\n",
       "      <td>0.552233</td>\n",
       "      <td>-0.788317</td>\n",
       "      <td>0.466921</td>\n",
       "      <td>-0.038655</td>\n",
       "      <td>-1.217039</td>\n",
       "      <td>-1.479509</td>\n",
       "      <td>-1.024897</td>\n",
       "    </tr>\n",
       "    <tr>\n",
       "      <th>13</th>\n",
       "      <td>0.352478</td>\n",
       "      <td>-0.171068</td>\n",
       "      <td>-0.908791</td>\n",
       "      <td>0.043839</td>\n",
       "      <td>0.804666</td>\n",
       "      <td>-0.021047</td>\n",
       "      <td>3.448141</td>\n",
       "      <td>1.045755</td>\n",
       "      <td>0.661342</td>\n",
       "      <td>0.649794</td>\n",
       "      <td>...</td>\n",
       "      <td>-1.150751</td>\n",
       "      <td>-1.150751</td>\n",
       "      <td>-0.234469</td>\n",
       "      <td>-1.722782</td>\n",
       "      <td>-0.653403</td>\n",
       "      <td>0.466921</td>\n",
       "      <td>-0.695168</td>\n",
       "      <td>-0.850644</td>\n",
       "      <td>-0.929639</td>\n",
       "      <td>-0.727588</td>\n",
       "    </tr>\n",
       "    <tr>\n",
       "      <th>14</th>\n",
       "      <td>0.109369</td>\n",
       "      <td>0.267702</td>\n",
       "      <td>-0.916258</td>\n",
       "      <td>0.145788</td>\n",
       "      <td>-1.685864</td>\n",
       "      <td>-0.309329</td>\n",
       "      <td>4.302564</td>\n",
       "      <td>0.391939</td>\n",
       "      <td>-1.512077</td>\n",
       "      <td>0.370764</td>\n",
       "      <td>...</td>\n",
       "      <td>-0.667729</td>\n",
       "      <td>-0.667729</td>\n",
       "      <td>-1.188264</td>\n",
       "      <td>-0.585274</td>\n",
       "      <td>0.307293</td>\n",
       "      <td>0.466921</td>\n",
       "      <td>-0.695168</td>\n",
       "      <td>-0.947428</td>\n",
       "      <td>-0.961060</td>\n",
       "      <td>-0.894225</td>\n",
       "    </tr>\n",
       "    <tr>\n",
       "      <th>15</th>\n",
       "      <td>0.410825</td>\n",
       "      <td>0.598578</td>\n",
       "      <td>-1.000565</td>\n",
       "      <td>1.547581</td>\n",
       "      <td>0.675217</td>\n",
       "      <td>-1.462453</td>\n",
       "      <td>2.254895</td>\n",
       "      <td>-0.032883</td>\n",
       "      <td>0.661342</td>\n",
       "      <td>0.013134</td>\n",
       "      <td>...</td>\n",
       "      <td>-1.094205</td>\n",
       "      <td>-1.094205</td>\n",
       "      <td>-1.561364</td>\n",
       "      <td>-1.343613</td>\n",
       "      <td>-0.745789</td>\n",
       "      <td>0.466921</td>\n",
       "      <td>-1.351682</td>\n",
       "      <td>-1.929089</td>\n",
       "      <td>-0.961060</td>\n",
       "      <td>-1.647087</td>\n",
       "    </tr>\n",
       "    <tr>\n",
       "      <th>16</th>\n",
       "      <td>0.333030</td>\n",
       "      <td>0.972612</td>\n",
       "      <td>-0.954789</td>\n",
       "      <td>1.309701</td>\n",
       "      <td>0.876916</td>\n",
       "      <td>-0.309329</td>\n",
       "      <td>4.751873</td>\n",
       "      <td>0.768762</td>\n",
       "      <td>0.661342</td>\n",
       "      <td>0.001344</td>\n",
       "      <td>...</td>\n",
       "      <td>-1.434449</td>\n",
       "      <td>-1.434449</td>\n",
       "      <td>-0.304400</td>\n",
       "      <td>-0.964443</td>\n",
       "      <td>-0.754225</td>\n",
       "      <td>0.466921</td>\n",
       "      <td>-1.351682</td>\n",
       "      <td>-0.663991</td>\n",
       "      <td>-0.929639</td>\n",
       "      <td>-0.346604</td>\n",
       "    </tr>\n",
       "    <tr>\n",
       "      <th>17</th>\n",
       "      <td>0.070471</td>\n",
       "      <td>0.246123</td>\n",
       "      <td>-0.188732</td>\n",
       "      <td>2.957869</td>\n",
       "      <td>0.648123</td>\n",
       "      <td>-0.309329</td>\n",
       "      <td>-0.256814</td>\n",
       "      <td>1.228083</td>\n",
       "      <td>0.661342</td>\n",
       "      <td>0.288234</td>\n",
       "      <td>...</td>\n",
       "      <td>0.015848</td>\n",
       "      <td>0.015848</td>\n",
       "      <td>1.067677</td>\n",
       "      <td>0.931402</td>\n",
       "      <td>-0.476878</td>\n",
       "      <td>0.466921</td>\n",
       "      <td>-0.038655</td>\n",
       "      <td>0.843067</td>\n",
       "      <td>0.939918</td>\n",
       "      <td>0.857479</td>\n",
       "    </tr>\n",
       "    <tr>\n",
       "      <th>18</th>\n",
       "      <td>0.245510</td>\n",
       "      <td>-0.919135</td>\n",
       "      <td>-0.611637</td>\n",
       "      <td>-0.964602</td>\n",
       "      <td>0.801655</td>\n",
       "      <td>-1.174172</td>\n",
       "      <td>-0.455688</td>\n",
       "      <td>-1.390514</td>\n",
       "      <td>-1.512077</td>\n",
       "      <td>-0.159786</td>\n",
       "      <td>...</td>\n",
       "      <td>-0.256018</td>\n",
       "      <td>-0.256018</td>\n",
       "      <td>0.172335</td>\n",
       "      <td>0.552233</td>\n",
       "      <td>0.464355</td>\n",
       "      <td>0.466921</td>\n",
       "      <td>1.274372</td>\n",
       "      <td>-0.504989</td>\n",
       "      <td>-0.364059</td>\n",
       "      <td>-0.413555</td>\n",
       "    </tr>\n",
       "    <tr>\n",
       "      <th>19</th>\n",
       "      <td>0.585864</td>\n",
       "      <td>-0.278962</td>\n",
       "      <td>-0.897524</td>\n",
       "      <td>-0.436168</td>\n",
       "      <td>-0.833009</td>\n",
       "      <td>1.420358</td>\n",
       "      <td>2.652644</td>\n",
       "      <td>0.650432</td>\n",
       "      <td>0.661342</td>\n",
       "      <td>-0.053676</td>\n",
       "      <td>...</td>\n",
       "      <td>-1.202934</td>\n",
       "      <td>-1.202934</td>\n",
       "      <td>-0.177238</td>\n",
       "      <td>-0.964443</td>\n",
       "      <td>-0.625599</td>\n",
       "      <td>-2.141691</td>\n",
       "      <td>-0.038655</td>\n",
       "      <td>-1.210126</td>\n",
       "      <td>-0.772534</td>\n",
       "      <td>-0.860591</td>\n",
       "    </tr>\n",
       "    <tr>\n",
       "      <th>20</th>\n",
       "      <td>-6.046174</td>\n",
       "      <td>-0.645803</td>\n",
       "      <td>-0.852189</td>\n",
       "      <td>-0.920424</td>\n",
       "      <td>1.024427</td>\n",
       "      <td>1.708639</td>\n",
       "      <td>2.063386</td>\n",
       "      <td>-2.983972</td>\n",
       "      <td>0.661342</td>\n",
       "      <td>-0.489906</td>\n",
       "      <td>...</td>\n",
       "      <td>-0.945738</td>\n",
       "      <td>-0.945738</td>\n",
       "      <td>0.911941</td>\n",
       "      <td>-0.585274</td>\n",
       "      <td>-0.713593</td>\n",
       "      <td>-2.141691</td>\n",
       "      <td>0.617859</td>\n",
       "      <td>-0.615599</td>\n",
       "      <td>-1.463798</td>\n",
       "      <td>0.038030</td>\n",
       "    </tr>\n",
       "    <tr>\n",
       "      <th>21</th>\n",
       "      <td>0.167715</td>\n",
       "      <td>-0.739311</td>\n",
       "      <td>-0.567628</td>\n",
       "      <td>0.392164</td>\n",
       "      <td>0.894979</td>\n",
       "      <td>-0.309329</td>\n",
       "      <td>-0.851964</td>\n",
       "      <td>1.563908</td>\n",
       "      <td>0.661342</td>\n",
       "      <td>-0.588156</td>\n",
       "      <td>...</td>\n",
       "      <td>-0.863883</td>\n",
       "      <td>-0.863883</td>\n",
       "      <td>0.966729</td>\n",
       "      <td>0.931402</td>\n",
       "      <td>-0.432013</td>\n",
       "      <td>-2.141691</td>\n",
       "      <td>-0.038655</td>\n",
       "      <td>-0.131681</td>\n",
       "      <td>-0.474033</td>\n",
       "      <td>-0.203547</td>\n",
       "    </tr>\n",
       "    <tr>\n",
       "      <th>22</th>\n",
       "      <td>0.615037</td>\n",
       "      <td>2.145063</td>\n",
       "      <td>-0.322175</td>\n",
       "      <td>1.658025</td>\n",
       "      <td>0.813697</td>\n",
       "      <td>0.555515</td>\n",
       "      <td>0.096740</td>\n",
       "      <td>1.201917</td>\n",
       "      <td>0.661342</td>\n",
       "      <td>-0.128346</td>\n",
       "      <td>...</td>\n",
       "      <td>-0.103978</td>\n",
       "      <td>-0.103978</td>\n",
       "      <td>-0.056019</td>\n",
       "      <td>-0.206105</td>\n",
       "      <td>-0.705378</td>\n",
       "      <td>0.466921</td>\n",
       "      <td>-0.695168</td>\n",
       "      <td>0.732457</td>\n",
       "      <td>-0.049848</td>\n",
       "      <td>0.809527</td>\n",
       "    </tr>\n",
       "    <tr>\n",
       "      <th>23</th>\n",
       "      <td>0.702557</td>\n",
       "      <td>-0.228612</td>\n",
       "      <td>1.203623</td>\n",
       "      <td>0.324198</td>\n",
       "      <td>0.660165</td>\n",
       "      <td>1.132077</td>\n",
       "      <td>1.636175</td>\n",
       "      <td>0.117613</td>\n",
       "      <td>0.661342</td>\n",
       "      <td>-0.238386</td>\n",
       "      <td>...</td>\n",
       "      <td>1.042614</td>\n",
       "      <td>1.042614</td>\n",
       "      <td>0.015621</td>\n",
       "      <td>0.931402</td>\n",
       "      <td>0.756931</td>\n",
       "      <td>0.466921</td>\n",
       "      <td>1.274372</td>\n",
       "      <td>1.008982</td>\n",
       "      <td>1.442656</td>\n",
       "      <td>1.020704</td>\n",
       "    </tr>\n",
       "    <tr>\n",
       "      <th>24</th>\n",
       "      <td>0.576140</td>\n",
       "      <td>0.087878</td>\n",
       "      <td>-0.387437</td>\n",
       "      <td>1.590059</td>\n",
       "      <td>0.461477</td>\n",
       "      <td>-0.309329</td>\n",
       "      <td>-0.470420</td>\n",
       "      <td>0.686098</td>\n",
       "      <td>0.661342</td>\n",
       "      <td>0.614424</td>\n",
       "      <td>...</td>\n",
       "      <td>-0.756540</td>\n",
       "      <td>-0.756540</td>\n",
       "      <td>0.460036</td>\n",
       "      <td>0.552233</td>\n",
       "      <td>-0.548790</td>\n",
       "      <td>0.466921</td>\n",
       "      <td>-0.038655</td>\n",
       "      <td>0.677152</td>\n",
       "      <td>0.358627</td>\n",
       "      <td>0.632663</td>\n",
       "    </tr>\n",
       "    <tr>\n",
       "      <th>25</th>\n",
       "      <td>0.615037</td>\n",
       "      <td>0.267702</td>\n",
       "      <td>-0.947409</td>\n",
       "      <td>2.422639</td>\n",
       "      <td>-0.251996</td>\n",
       "      <td>-0.885891</td>\n",
       "      <td>0.074643</td>\n",
       "      <td>1.377746</td>\n",
       "      <td>-1.512077</td>\n",
       "      <td>3.271104</td>\n",
       "      <td>...</td>\n",
       "      <td>-1.276494</td>\n",
       "      <td>-1.276494</td>\n",
       "      <td>-1.036679</td>\n",
       "      <td>-0.585274</td>\n",
       "      <td>-0.742566</td>\n",
       "      <td>0.466921</td>\n",
       "      <td>-1.351682</td>\n",
       "      <td>-0.601773</td>\n",
       "      <td>-1.432377</td>\n",
       "      <td>-0.311881</td>\n",
       "    </tr>\n",
       "    <tr>\n",
       "      <th>26</th>\n",
       "      <td>0.109369</td>\n",
       "      <td>0.864717</td>\n",
       "      <td>-0.260622</td>\n",
       "      <td>1.658025</td>\n",
       "      <td>0.353101</td>\n",
       "      <td>-0.885891</td>\n",
       "      <td>0.840678</td>\n",
       "      <td>1.747569</td>\n",
       "      <td>-1.512077</td>\n",
       "      <td>0.417924</td>\n",
       "      <td>...</td>\n",
       "      <td>-0.008681</td>\n",
       "      <td>-0.008681</td>\n",
       "      <td>0.018064</td>\n",
       "      <td>0.552233</td>\n",
       "      <td>0.722491</td>\n",
       "      <td>0.466921</td>\n",
       "      <td>1.274372</td>\n",
       "      <td>0.808501</td>\n",
       "      <td>0.012995</td>\n",
       "      <td>0.815018</td>\n",
       "    </tr>\n",
       "    <tr>\n",
       "      <th>27</th>\n",
       "      <td>0.196888</td>\n",
       "      <td>-0.631417</td>\n",
       "      <td>-0.755775</td>\n",
       "      <td>-0.904282</td>\n",
       "      <td>-1.836687</td>\n",
       "      <td>-0.597610</td>\n",
       "      <td>0.730192</td>\n",
       "      <td>-2.065496</td>\n",
       "      <td>0.661342</td>\n",
       "      <td>0.131034</td>\n",
       "      <td>...</td>\n",
       "      <td>-0.353466</td>\n",
       "      <td>-0.353466</td>\n",
       "      <td>-0.829899</td>\n",
       "      <td>-1.722782</td>\n",
       "      <td>-0.578585</td>\n",
       "      <td>-2.141691</td>\n",
       "      <td>-0.038655</td>\n",
       "      <td>-1.258518</td>\n",
       "      <td>1.332682</td>\n",
       "      <td>-1.319917</td>\n",
       "    </tr>\n",
       "    <tr>\n",
       "      <th>28</th>\n",
       "      <td>0.187164</td>\n",
       "      <td>1.195593</td>\n",
       "      <td>-0.583270</td>\n",
       "      <td>1.912896</td>\n",
       "      <td>-0.023203</td>\n",
       "      <td>1.132077</td>\n",
       "      <td>2.159141</td>\n",
       "      <td>1.225417</td>\n",
       "      <td>-1.512077</td>\n",
       "      <td>-0.226596</td>\n",
       "      <td>...</td>\n",
       "      <td>-1.087017</td>\n",
       "      <td>-1.087017</td>\n",
       "      <td>-0.250507</td>\n",
       "      <td>0.173064</td>\n",
       "      <td>-0.444904</td>\n",
       "      <td>0.466921</td>\n",
       "      <td>-0.695168</td>\n",
       "      <td>0.587282</td>\n",
       "      <td>0.028705</td>\n",
       "      <td>0.613579</td>\n",
       "    </tr>\n",
       "    <tr>\n",
       "      <th>29</th>\n",
       "      <td>0.478896</td>\n",
       "      <td>-0.070367</td>\n",
       "      <td>-0.314000</td>\n",
       "      <td>-0.075101</td>\n",
       "      <td>0.217632</td>\n",
       "      <td>-0.309329</td>\n",
       "      <td>1.231061</td>\n",
       "      <td>0.716263</td>\n",
       "      <td>-1.512077</td>\n",
       "      <td>0.068154</td>\n",
       "      <td>...</td>\n",
       "      <td>-0.389206</td>\n",
       "      <td>-0.389206</td>\n",
       "      <td>0.683261</td>\n",
       "      <td>0.931402</td>\n",
       "      <td>-0.586326</td>\n",
       "      <td>0.466921</td>\n",
       "      <td>-0.695168</td>\n",
       "      <td>0.552716</td>\n",
       "      <td>0.955629</td>\n",
       "      <td>0.479976</td>\n",
       "    </tr>\n",
       "    <tr>\n",
       "      <th>...</th>\n",
       "      <td>...</td>\n",
       "      <td>...</td>\n",
       "      <td>...</td>\n",
       "      <td>...</td>\n",
       "      <td>...</td>\n",
       "      <td>...</td>\n",
       "      <td>...</td>\n",
       "      <td>...</td>\n",
       "      <td>...</td>\n",
       "      <td>...</td>\n",
       "      <td>...</td>\n",
       "      <td>...</td>\n",
       "      <td>...</td>\n",
       "      <td>...</td>\n",
       "      <td>...</td>\n",
       "      <td>...</td>\n",
       "      <td>...</td>\n",
       "      <td>...</td>\n",
       "      <td>...</td>\n",
       "      <td>...</td>\n",
       "      <td>...</td>\n",
       "    </tr>\n",
       "    <tr>\n",
       "      <th>2093</th>\n",
       "      <td>0.819249</td>\n",
       "      <td>1.864538</td>\n",
       "      <td>0.649925</td>\n",
       "      <td>-0.553409</td>\n",
       "      <td>0.678228</td>\n",
       "      <td>-0.021047</td>\n",
       "      <td>-0.168425</td>\n",
       "      <td>-0.064216</td>\n",
       "      <td>0.661342</td>\n",
       "      <td>0.032784</td>\n",
       "      <td>...</td>\n",
       "      <td>0.299288</td>\n",
       "      <td>0.299288</td>\n",
       "      <td>-0.877768</td>\n",
       "      <td>-1.343613</td>\n",
       "      <td>-0.598711</td>\n",
       "      <td>0.466921</td>\n",
       "      <td>-1.351682</td>\n",
       "      <td>0.863806</td>\n",
       "      <td>3.265082</td>\n",
       "      <td>0.814212</td>\n",
       "    </tr>\n",
       "    <tr>\n",
       "      <th>2094</th>\n",
       "      <td>0.799801</td>\n",
       "      <td>-0.192647</td>\n",
       "      <td>0.425811</td>\n",
       "      <td>-0.785342</td>\n",
       "      <td>-1.808087</td>\n",
       "      <td>-0.597610</td>\n",
       "      <td>-0.411494</td>\n",
       "      <td>-0.504871</td>\n",
       "      <td>0.661342</td>\n",
       "      <td>0.111384</td>\n",
       "      <td>...</td>\n",
       "      <td>0.312622</td>\n",
       "      <td>0.312622</td>\n",
       "      <td>-0.259787</td>\n",
       "      <td>0.552233</td>\n",
       "      <td>-0.500038</td>\n",
       "      <td>0.466921</td>\n",
       "      <td>0.617859</td>\n",
       "      <td>0.573456</td>\n",
       "      <td>1.505498</td>\n",
       "      <td>0.610308</td>\n",
       "    </tr>\n",
       "    <tr>\n",
       "      <th>2095</th>\n",
       "      <td>0.624762</td>\n",
       "      <td>-0.926328</td>\n",
       "      <td>0.641441</td>\n",
       "      <td>-0.268803</td>\n",
       "      <td>-0.525945</td>\n",
       "      <td>-1.462453</td>\n",
       "      <td>-0.057940</td>\n",
       "      <td>0.121946</td>\n",
       "      <td>-1.512077</td>\n",
       "      <td>-0.482046</td>\n",
       "      <td>...</td>\n",
       "      <td>0.247543</td>\n",
       "      <td>0.247543</td>\n",
       "      <td>-0.226979</td>\n",
       "      <td>0.552233</td>\n",
       "      <td>-0.547210</td>\n",
       "      <td>0.466921</td>\n",
       "      <td>1.274372</td>\n",
       "      <td>1.002069</td>\n",
       "      <td>0.390048</td>\n",
       "      <td>0.976658</td>\n",
       "    </tr>\n",
       "    <tr>\n",
       "      <th>2096</th>\n",
       "      <td>0.566415</td>\n",
       "      <td>-1.362940</td>\n",
       "      <td>0.196925</td>\n",
       "      <td>-0.269652</td>\n",
       "      <td>0.684248</td>\n",
       "      <td>0.267234</td>\n",
       "      <td>1.312083</td>\n",
       "      <td>-0.428373</td>\n",
       "      <td>-1.512077</td>\n",
       "      <td>0.370764</td>\n",
       "      <td>...</td>\n",
       "      <td>-0.303337</td>\n",
       "      <td>-0.303337</td>\n",
       "      <td>0.114127</td>\n",
       "      <td>0.552233</td>\n",
       "      <td>1.815100</td>\n",
       "      <td>0.466921</td>\n",
       "      <td>-0.695168</td>\n",
       "      <td>0.725544</td>\n",
       "      <td>0.154390</td>\n",
       "      <td>0.650864</td>\n",
       "    </tr>\n",
       "    <tr>\n",
       "      <th>2097</th>\n",
       "      <td>0.741454</td>\n",
       "      <td>0.210159</td>\n",
       "      <td>0.456035</td>\n",
       "      <td>-0.331671</td>\n",
       "      <td>-1.091906</td>\n",
       "      <td>1.420358</td>\n",
       "      <td>-0.593427</td>\n",
       "      <td>0.066447</td>\n",
       "      <td>0.661342</td>\n",
       "      <td>-0.285546</td>\n",
       "      <td>...</td>\n",
       "      <td>0.735474</td>\n",
       "      <td>0.735474</td>\n",
       "      <td>-0.462334</td>\n",
       "      <td>0.552233</td>\n",
       "      <td>-0.514604</td>\n",
       "      <td>-2.141691</td>\n",
       "      <td>-1.351682</td>\n",
       "      <td>0.822328</td>\n",
       "      <td>1.285550</td>\n",
       "      <td>0.813649</td>\n",
       "    </tr>\n",
       "    <tr>\n",
       "      <th>2098</th>\n",
       "      <td>0.722005</td>\n",
       "      <td>1.605592</td>\n",
       "      <td>0.383392</td>\n",
       "      <td>-0.390292</td>\n",
       "      <td>0.952177</td>\n",
       "      <td>-0.885891</td>\n",
       "      <td>-0.731166</td>\n",
       "      <td>-0.014717</td>\n",
       "      <td>0.661342</td>\n",
       "      <td>0.881664</td>\n",
       "      <td>...</td>\n",
       "      <td>0.495925</td>\n",
       "      <td>0.495925</td>\n",
       "      <td>-0.667812</td>\n",
       "      <td>0.173064</td>\n",
       "      <td>-0.355930</td>\n",
       "      <td>0.466921</td>\n",
       "      <td>-0.695168</td>\n",
       "      <td>0.677152</td>\n",
       "      <td>2.479553</td>\n",
       "      <td>0.615333</td>\n",
       "    </tr>\n",
       "    <tr>\n",
       "      <th>2099</th>\n",
       "      <td>0.517793</td>\n",
       "      <td>0.231737</td>\n",
       "      <td>0.849294</td>\n",
       "      <td>0.927394</td>\n",
       "      <td>0.241715</td>\n",
       "      <td>1.420358</td>\n",
       "      <td>-0.315740</td>\n",
       "      <td>2.049728</td>\n",
       "      <td>0.661342</td>\n",
       "      <td>-0.340566</td>\n",
       "      <td>...</td>\n",
       "      <td>-0.701146</td>\n",
       "      <td>-0.701146</td>\n",
       "      <td>-1.102051</td>\n",
       "      <td>-0.585274</td>\n",
       "      <td>-0.329264</td>\n",
       "      <td>0.466921</td>\n",
       "      <td>-0.695168</td>\n",
       "      <td>0.898372</td>\n",
       "      <td>1.772578</td>\n",
       "      <td>0.865535</td>\n",
       "    </tr>\n",
       "    <tr>\n",
       "      <th>2100</th>\n",
       "      <td>0.576140</td>\n",
       "      <td>1.152436</td>\n",
       "      <td>-0.455662</td>\n",
       "      <td>-0.126075</td>\n",
       "      <td>0.753488</td>\n",
       "      <td>-0.885891</td>\n",
       "      <td>-0.043208</td>\n",
       "      <td>0.634932</td>\n",
       "      <td>0.661342</td>\n",
       "      <td>-0.065466</td>\n",
       "      <td>...</td>\n",
       "      <td>-0.779343</td>\n",
       "      <td>-0.779343</td>\n",
       "      <td>-0.845204</td>\n",
       "      <td>-0.585274</td>\n",
       "      <td>-0.410054</td>\n",
       "      <td>0.466921</td>\n",
       "      <td>-1.351682</td>\n",
       "      <td>-0.276856</td>\n",
       "      <td>-0.238374</td>\n",
       "      <td>-0.426454</td>\n",
       "    </tr>\n",
       "    <tr>\n",
       "      <th>2101</th>\n",
       "      <td>0.692832</td>\n",
       "      <td>0.591385</td>\n",
       "      <td>2.821812</td>\n",
       "      <td>0.018352</td>\n",
       "      <td>0.825739</td>\n",
       "      <td>-0.597610</td>\n",
       "      <td>-0.647197</td>\n",
       "      <td>0.707597</td>\n",
       "      <td>0.661342</td>\n",
       "      <td>-0.356286</td>\n",
       "      <td>...</td>\n",
       "      <td>0.618933</td>\n",
       "      <td>0.618933</td>\n",
       "      <td>0.264897</td>\n",
       "      <td>0.931402</td>\n",
       "      <td>-0.186167</td>\n",
       "      <td>0.466921</td>\n",
       "      <td>0.617859</td>\n",
       "      <td>1.015895</td>\n",
       "      <td>1.913973</td>\n",
       "      <td>1.030863</td>\n",
       "    </tr>\n",
       "    <tr>\n",
       "      <th>2102</th>\n",
       "      <td>0.819249</td>\n",
       "      <td>1.260330</td>\n",
       "      <td>-0.601477</td>\n",
       "      <td>2.116793</td>\n",
       "      <td>0.753488</td>\n",
       "      <td>-1.462453</td>\n",
       "      <td>0.244055</td>\n",
       "      <td>1.205750</td>\n",
       "      <td>-1.512077</td>\n",
       "      <td>-0.348426</td>\n",
       "      <td>...</td>\n",
       "      <td>-0.373298</td>\n",
       "      <td>-0.373298</td>\n",
       "      <td>-1.345059</td>\n",
       "      <td>-0.585274</td>\n",
       "      <td>-0.739470</td>\n",
       "      <td>0.466921</td>\n",
       "      <td>0.617859</td>\n",
       "      <td>-0.290683</td>\n",
       "      <td>0.138679</td>\n",
       "      <td>-0.241711</td>\n",
       "    </tr>\n",
       "    <tr>\n",
       "      <th>2103</th>\n",
       "      <td>-1.563228</td>\n",
       "      <td>-0.156682</td>\n",
       "      <td>-0.097090</td>\n",
       "      <td>0.307206</td>\n",
       "      <td>-1.886629</td>\n",
       "      <td>-1.174172</td>\n",
       "      <td>-0.396763</td>\n",
       "      <td>0.798095</td>\n",
       "      <td>0.661342</td>\n",
       "      <td>-0.151926</td>\n",
       "      <td>...</td>\n",
       "      <td>-0.555406</td>\n",
       "      <td>-0.555406</td>\n",
       "      <td>1.802480</td>\n",
       "      <td>0.552233</td>\n",
       "      <td>-0.500228</td>\n",
       "      <td>0.466921</td>\n",
       "      <td>-0.038655</td>\n",
       "      <td>0.317671</td>\n",
       "      <td>-0.316927</td>\n",
       "      <td>0.285957</td>\n",
       "    </tr>\n",
       "    <tr>\n",
       "      <th>2104</th>\n",
       "      <td>0.517793</td>\n",
       "      <td>0.425947</td>\n",
       "      <td>0.582761</td>\n",
       "      <td>0.349685</td>\n",
       "      <td>0.816707</td>\n",
       "      <td>-1.462453</td>\n",
       "      <td>-0.795984</td>\n",
       "      <td>0.596767</td>\n",
       "      <td>-1.512077</td>\n",
       "      <td>-0.344496</td>\n",
       "      <td>...</td>\n",
       "      <td>1.006400</td>\n",
       "      <td>1.006400</td>\n",
       "      <td>0.246987</td>\n",
       "      <td>0.552233</td>\n",
       "      <td>-0.159500</td>\n",
       "      <td>0.466921</td>\n",
       "      <td>0.617859</td>\n",
       "      <td>0.953677</td>\n",
       "      <td>0.484312</td>\n",
       "      <td>0.955101</td>\n",
       "    </tr>\n",
       "    <tr>\n",
       "      <th>2105</th>\n",
       "      <td>0.819249</td>\n",
       "      <td>1.339452</td>\n",
       "      <td>-0.459152</td>\n",
       "      <td>0.069327</td>\n",
       "      <td>0.888958</td>\n",
       "      <td>-0.021047</td>\n",
       "      <td>-0.718644</td>\n",
       "      <td>-0.373374</td>\n",
       "      <td>0.661342</td>\n",
       "      <td>0.103524</td>\n",
       "      <td>...</td>\n",
       "      <td>-0.219846</td>\n",
       "      <td>-0.219846</td>\n",
       "      <td>-1.181262</td>\n",
       "      <td>-0.206105</td>\n",
       "      <td>-0.707748</td>\n",
       "      <td>0.466921</td>\n",
       "      <td>0.617859</td>\n",
       "      <td>-0.511902</td>\n",
       "      <td>0.861365</td>\n",
       "      <td>-0.346240</td>\n",
       "    </tr>\n",
       "    <tr>\n",
       "      <th>2106</th>\n",
       "      <td>0.683108</td>\n",
       "      <td>0.807174</td>\n",
       "      <td>1.498742</td>\n",
       "      <td>0.698009</td>\n",
       "      <td>0.837780</td>\n",
       "      <td>1.420358</td>\n",
       "      <td>-0.635412</td>\n",
       "      <td>0.672598</td>\n",
       "      <td>0.661342</td>\n",
       "      <td>-0.395586</td>\n",
       "      <td>...</td>\n",
       "      <td>0.473708</td>\n",
       "      <td>0.473708</td>\n",
       "      <td>-0.392322</td>\n",
       "      <td>-0.206105</td>\n",
       "      <td>-0.265567</td>\n",
       "      <td>0.466921</td>\n",
       "      <td>0.617859</td>\n",
       "      <td>0.995155</td>\n",
       "      <td>1.536919</td>\n",
       "      <td>0.985057</td>\n",
       "    </tr>\n",
       "    <tr>\n",
       "      <th>2107</th>\n",
       "      <td>0.556691</td>\n",
       "      <td>0.260509</td>\n",
       "      <td>-0.090728</td>\n",
       "      <td>0.290215</td>\n",
       "      <td>-1.284574</td>\n",
       "      <td>-0.309329</td>\n",
       "      <td>-0.389397</td>\n",
       "      <td>1.209584</td>\n",
       "      <td>-1.512077</td>\n",
       "      <td>-0.061536</td>\n",
       "      <td>...</td>\n",
       "      <td>-0.165159</td>\n",
       "      <td>-0.165159</td>\n",
       "      <td>-1.053449</td>\n",
       "      <td>0.931402</td>\n",
       "      <td>-0.632834</td>\n",
       "      <td>0.466921</td>\n",
       "      <td>-0.695168</td>\n",
       "      <td>0.462846</td>\n",
       "      <td>0.924207</td>\n",
       "      <td>0.404680</td>\n",
       "    </tr>\n",
       "    <tr>\n",
       "      <th>2108</th>\n",
       "      <td>0.741454</td>\n",
       "      <td>0.253316</td>\n",
       "      <td>-0.422874</td>\n",
       "      <td>-0.522825</td>\n",
       "      <td>-1.886653</td>\n",
       "      <td>-0.885891</td>\n",
       "      <td>-0.630992</td>\n",
       "      <td>-0.130048</td>\n",
       "      <td>0.661342</td>\n",
       "      <td>-0.116556</td>\n",
       "      <td>...</td>\n",
       "      <td>1.221345</td>\n",
       "      <td>1.221345</td>\n",
       "      <td>-0.167062</td>\n",
       "      <td>0.173064</td>\n",
       "      <td>-0.169832</td>\n",
       "      <td>0.466921</td>\n",
       "      <td>-0.695168</td>\n",
       "      <td>0.359149</td>\n",
       "      <td>0.028705</td>\n",
       "      <td>0.276800</td>\n",
       "    </tr>\n",
       "    <tr>\n",
       "      <th>2109</th>\n",
       "      <td>0.799801</td>\n",
       "      <td>0.181387</td>\n",
       "      <td>1.066160</td>\n",
       "      <td>-0.202536</td>\n",
       "      <td>0.801655</td>\n",
       "      <td>0.843796</td>\n",
       "      <td>-0.374665</td>\n",
       "      <td>-0.074882</td>\n",
       "      <td>0.661342</td>\n",
       "      <td>-0.395586</td>\n",
       "      <td>...</td>\n",
       "      <td>0.201369</td>\n",
       "      <td>0.201369</td>\n",
       "      <td>-0.427573</td>\n",
       "      <td>0.931402</td>\n",
       "      <td>-0.279564</td>\n",
       "      <td>0.466921</td>\n",
       "      <td>-0.695168</td>\n",
       "      <td>0.919111</td>\n",
       "      <td>2.008236</td>\n",
       "      <td>0.914912</td>\n",
       "    </tr>\n",
       "    <tr>\n",
       "      <th>2110</th>\n",
       "      <td>0.206612</td>\n",
       "      <td>0.037528</td>\n",
       "      <td>-0.875476</td>\n",
       "      <td>-0.007135</td>\n",
       "      <td>-1.886642</td>\n",
       "      <td>0.555515</td>\n",
       "      <td>1.245792</td>\n",
       "      <td>1.112086</td>\n",
       "      <td>-1.512077</td>\n",
       "      <td>0.296094</td>\n",
       "      <td>...</td>\n",
       "      <td>-0.287199</td>\n",
       "      <td>-0.287199</td>\n",
       "      <td>-1.454310</td>\n",
       "      <td>-2.101951</td>\n",
       "      <td>-0.605852</td>\n",
       "      <td>0.466921</td>\n",
       "      <td>-1.351682</td>\n",
       "      <td>-1.223952</td>\n",
       "      <td>-0.254085</td>\n",
       "      <td>-1.289781</td>\n",
       "    </tr>\n",
       "    <tr>\n",
       "      <th>2111</th>\n",
       "      <td>0.799801</td>\n",
       "      <td>0.627350</td>\n",
       "      <td>0.490543</td>\n",
       "      <td>-0.168553</td>\n",
       "      <td>0.684248</td>\n",
       "      <td>1.420358</td>\n",
       "      <td>0.700729</td>\n",
       "      <td>0.068114</td>\n",
       "      <td>0.661342</td>\n",
       "      <td>-0.030096</td>\n",
       "      <td>...</td>\n",
       "      <td>-0.289753</td>\n",
       "      <td>-0.289753</td>\n",
       "      <td>-0.518100</td>\n",
       "      <td>0.552233</td>\n",
       "      <td>-0.424840</td>\n",
       "      <td>0.466921</td>\n",
       "      <td>-0.038655</td>\n",
       "      <td>0.801588</td>\n",
       "      <td>0.625707</td>\n",
       "      <td>0.753081</td>\n",
       "    </tr>\n",
       "    <tr>\n",
       "      <th>2112</th>\n",
       "      <td>0.712281</td>\n",
       "      <td>0.598578</td>\n",
       "      <td>0.595397</td>\n",
       "      <td>-0.269652</td>\n",
       "      <td>0.861864</td>\n",
       "      <td>0.267234</td>\n",
       "      <td>-0.569120</td>\n",
       "      <td>-0.558370</td>\n",
       "      <td>-1.512077</td>\n",
       "      <td>-0.191226</td>\n",
       "      <td>...</td>\n",
       "      <td>-0.748963</td>\n",
       "      <td>-0.748963</td>\n",
       "      <td>-0.713483</td>\n",
       "      <td>0.931402</td>\n",
       "      <td>-0.204840</td>\n",
       "      <td>0.466921</td>\n",
       "      <td>1.274372</td>\n",
       "      <td>0.870719</td>\n",
       "      <td>1.364103</td>\n",
       "      <td>0.901741</td>\n",
       "    </tr>\n",
       "    <tr>\n",
       "      <th>2113</th>\n",
       "      <td>0.663659</td>\n",
       "      <td>-0.768083</td>\n",
       "      <td>-0.453495</td>\n",
       "      <td>-1.000793</td>\n",
       "      <td>0.431372</td>\n",
       "      <td>-1.462453</td>\n",
       "      <td>-0.256814</td>\n",
       "      <td>-1.756504</td>\n",
       "      <td>0.661342</td>\n",
       "      <td>-0.293406</td>\n",
       "      <td>...</td>\n",
       "      <td>-0.518550</td>\n",
       "      <td>-0.518550</td>\n",
       "      <td>-0.256938</td>\n",
       "      <td>0.173064</td>\n",
       "      <td>-0.422123</td>\n",
       "      <td>0.466921</td>\n",
       "      <td>-0.038655</td>\n",
       "      <td>-0.304509</td>\n",
       "      <td>-0.065558</td>\n",
       "      <td>-0.371060</td>\n",
       "    </tr>\n",
       "    <tr>\n",
       "      <th>2114</th>\n",
       "      <td>0.741454</td>\n",
       "      <td>-0.063174</td>\n",
       "      <td>-0.030016</td>\n",
       "      <td>-0.709730</td>\n",
       "      <td>-1.886482</td>\n",
       "      <td>-1.462453</td>\n",
       "      <td>-0.606686</td>\n",
       "      <td>-0.076382</td>\n",
       "      <td>-1.512077</td>\n",
       "      <td>0.508314</td>\n",
       "      <td>...</td>\n",
       "      <td>0.438147</td>\n",
       "      <td>0.438147</td>\n",
       "      <td>1.703486</td>\n",
       "      <td>0.552233</td>\n",
       "      <td>-0.666168</td>\n",
       "      <td>0.466921</td>\n",
       "      <td>-0.038655</td>\n",
       "      <td>0.511238</td>\n",
       "      <td>0.484312</td>\n",
       "      <td>0.516311</td>\n",
       "    </tr>\n",
       "    <tr>\n",
       "      <th>2115</th>\n",
       "      <td>0.809525</td>\n",
       "      <td>0.749630</td>\n",
       "      <td>-0.745611</td>\n",
       "      <td>1.054829</td>\n",
       "      <td>0.925083</td>\n",
       "      <td>-1.174172</td>\n",
       "      <td>-0.448323</td>\n",
       "      <td>0.169778</td>\n",
       "      <td>-1.512077</td>\n",
       "      <td>-0.395586</td>\n",
       "      <td>...</td>\n",
       "      <td>-1.053474</td>\n",
       "      <td>-1.053474</td>\n",
       "      <td>-1.084385</td>\n",
       "      <td>-0.206105</td>\n",
       "      <td>1.970898</td>\n",
       "      <td>0.466921</td>\n",
       "      <td>-1.351682</td>\n",
       "      <td>-1.521216</td>\n",
       "      <td>0.185811</td>\n",
       "      <td>-1.484993</td>\n",
       "    </tr>\n",
       "    <tr>\n",
       "      <th>2116</th>\n",
       "      <td>0.546966</td>\n",
       "      <td>-0.681768</td>\n",
       "      <td>-0.492600</td>\n",
       "      <td>-0.309582</td>\n",
       "      <td>0.657155</td>\n",
       "      <td>-1.462453</td>\n",
       "      <td>-0.681079</td>\n",
       "      <td>-0.652367</td>\n",
       "      <td>-1.512077</td>\n",
       "      <td>0.099594</td>\n",
       "      <td>...</td>\n",
       "      <td>-0.289696</td>\n",
       "      <td>-0.289696</td>\n",
       "      <td>0.182511</td>\n",
       "      <td>0.552233</td>\n",
       "      <td>-0.730812</td>\n",
       "      <td>0.466921</td>\n",
       "      <td>0.617859</td>\n",
       "      <td>-0.186986</td>\n",
       "      <td>-0.536875</td>\n",
       "      <td>-0.372050</td>\n",
       "    </tr>\n",
       "    <tr>\n",
       "      <th>2117</th>\n",
       "      <td>0.790076</td>\n",
       "      <td>0.174194</td>\n",
       "      <td>0.575427</td>\n",
       "      <td>-0.356309</td>\n",
       "      <td>0.756499</td>\n",
       "      <td>-0.885891</td>\n",
       "      <td>-0.183157</td>\n",
       "      <td>-0.534203</td>\n",
       "      <td>0.661342</td>\n",
       "      <td>0.072084</td>\n",
       "      <td>...</td>\n",
       "      <td>1.024898</td>\n",
       "      <td>1.024898</td>\n",
       "      <td>-0.222583</td>\n",
       "      <td>-0.585274</td>\n",
       "      <td>1.418290</td>\n",
       "      <td>0.466921</td>\n",
       "      <td>1.274372</td>\n",
       "      <td>0.635674</td>\n",
       "      <td>1.175576</td>\n",
       "      <td>0.579253</td>\n",
       "    </tr>\n",
       "    <tr>\n",
       "      <th>2118</th>\n",
       "      <td>0.157991</td>\n",
       "      <td>-0.480365</td>\n",
       "      <td>1.535991</td>\n",
       "      <td>0.060831</td>\n",
       "      <td>0.410299</td>\n",
       "      <td>1.132077</td>\n",
       "      <td>-0.396763</td>\n",
       "      <td>0.444604</td>\n",
       "      <td>0.661342</td>\n",
       "      <td>-0.293406</td>\n",
       "      <td>...</td>\n",
       "      <td>1.797904</td>\n",
       "      <td>1.797904</td>\n",
       "      <td>-0.151594</td>\n",
       "      <td>0.931402</td>\n",
       "      <td>1.562777</td>\n",
       "      <td>0.466921</td>\n",
       "      <td>0.617859</td>\n",
       "      <td>1.029721</td>\n",
       "      <td>1.144155</td>\n",
       "      <td>1.009913</td>\n",
       "    </tr>\n",
       "    <tr>\n",
       "      <th>2119</th>\n",
       "      <td>0.751179</td>\n",
       "      <td>0.886296</td>\n",
       "      <td>-0.527154</td>\n",
       "      <td>-0.730970</td>\n",
       "      <td>-1.886660</td>\n",
       "      <td>-1.462453</td>\n",
       "      <td>-0.433591</td>\n",
       "      <td>0.050781</td>\n",
       "      <td>0.661342</td>\n",
       "      <td>0.555474</td>\n",
       "      <td>...</td>\n",
       "      <td>0.619263</td>\n",
       "      <td>0.619263</td>\n",
       "      <td>-0.830713</td>\n",
       "      <td>0.931402</td>\n",
       "      <td>-0.604841</td>\n",
       "      <td>0.466921</td>\n",
       "      <td>-0.695168</td>\n",
       "      <td>0.220887</td>\n",
       "      <td>0.719970</td>\n",
       "      <td>0.260385</td>\n",
       "    </tr>\n",
       "    <tr>\n",
       "      <th>2120</th>\n",
       "      <td>0.780352</td>\n",
       "      <td>1.174014</td>\n",
       "      <td>0.762289</td>\n",
       "      <td>-0.510081</td>\n",
       "      <td>0.714353</td>\n",
       "      <td>1.132077</td>\n",
       "      <td>-0.532292</td>\n",
       "      <td>-0.329876</td>\n",
       "      <td>0.661342</td>\n",
       "      <td>0.127104</td>\n",
       "      <td>...</td>\n",
       "      <td>-0.247589</td>\n",
       "      <td>-0.247589</td>\n",
       "      <td>-0.699643</td>\n",
       "      <td>0.173064</td>\n",
       "      <td>-0.518079</td>\n",
       "      <td>0.466921</td>\n",
       "      <td>1.274372</td>\n",
       "      <td>0.780849</td>\n",
       "      <td>0.704260</td>\n",
       "      <td>0.792368</td>\n",
       "    </tr>\n",
       "    <tr>\n",
       "      <th>2121</th>\n",
       "      <td>0.770627</td>\n",
       "      <td>1.008576</td>\n",
       "      <td>0.380433</td>\n",
       "      <td>-0.202536</td>\n",
       "      <td>0.654144</td>\n",
       "      <td>-1.462453</td>\n",
       "      <td>0.273518</td>\n",
       "      <td>0.169945</td>\n",
       "      <td>0.661342</td>\n",
       "      <td>-0.324846</td>\n",
       "      <td>...</td>\n",
       "      <td>0.935717</td>\n",
       "      <td>0.935717</td>\n",
       "      <td>1.595049</td>\n",
       "      <td>0.173064</td>\n",
       "      <td>-0.542566</td>\n",
       "      <td>0.466921</td>\n",
       "      <td>0.617859</td>\n",
       "      <td>0.704805</td>\n",
       "      <td>1.081313</td>\n",
       "      <td>0.646645</td>\n",
       "    </tr>\n",
       "    <tr>\n",
       "      <th>2122</th>\n",
       "      <td>0.556691</td>\n",
       "      <td>0.936647</td>\n",
       "      <td>0.572378</td>\n",
       "      <td>-0.100588</td>\n",
       "      <td>0.807676</td>\n",
       "      <td>-0.309329</td>\n",
       "      <td>1.407838</td>\n",
       "      <td>0.292441</td>\n",
       "      <td>0.661342</td>\n",
       "      <td>-0.226596</td>\n",
       "      <td>...</td>\n",
       "      <td>0.694435</td>\n",
       "      <td>0.694435</td>\n",
       "      <td>1.655048</td>\n",
       "      <td>0.552233</td>\n",
       "      <td>-0.620891</td>\n",
       "      <td>0.466921</td>\n",
       "      <td>-1.351682</td>\n",
       "      <td>0.836154</td>\n",
       "      <td>0.798523</td>\n",
       "      <td>0.852893</td>\n",
       "    </tr>\n",
       "  </tbody>\n",
       "</table>\n",
       "<p>2123 rows × 25 columns</p>\n",
       "</div>"
      ],
      "text/plain": [
       "      no_unique_timbres     tempo   valence  danceability  instrumentalness  \\\n",
       "0              0.381652 -0.868784 -0.647385     -1.020334          0.961208   \n",
       "1             -3.916531 -0.868784 -0.816355     -0.581445          0.636082   \n",
       "2              0.566415 -1.271590 -0.650258     -0.380097          0.569852   \n",
       "3              0.391376  0.828753 -0.828020      1.725991         -1.462189   \n",
       "4              0.673384  0.713665 -0.918203      1.793956          0.726394   \n",
       "5              0.371927 -1.134924 -0.072567     -0.671500          0.774561   \n",
       "6              0.595588 -1.142117 -0.640317     -0.900884         -1.170177   \n",
       "7              0.498344  0.116650 -0.646282      0.715001          0.503623   \n",
       "8              0.780352 -0.127910 -0.913520     -1.040214         -0.122547   \n",
       "9              0.391376 -1.490256 -0.324250     -0.888140          0.792624   \n",
       "10             0.566415 -0.322120 -0.800888     -0.354610          0.326007   \n",
       "11             0.070471  0.605771 -0.833674      4.036824          0.536737   \n",
       "12            -0.289332 -0.926328 -0.886034     -0.708881          0.720374   \n",
       "13             0.352478 -0.171068 -0.908791      0.043839          0.804666   \n",
       "14             0.109369  0.267702 -0.916258      0.145788         -1.685864   \n",
       "15             0.410825  0.598578 -1.000565      1.547581          0.675217   \n",
       "16             0.333030  0.972612 -0.954789      1.309701          0.876916   \n",
       "17             0.070471  0.246123 -0.188732      2.957869          0.648123   \n",
       "18             0.245510 -0.919135 -0.611637     -0.964602          0.801655   \n",
       "19             0.585864 -0.278962 -0.897524     -0.436168         -0.833009   \n",
       "20            -6.046174 -0.645803 -0.852189     -0.920424          1.024427   \n",
       "21             0.167715 -0.739311 -0.567628      0.392164          0.894979   \n",
       "22             0.615037  2.145063 -0.322175      1.658025          0.813697   \n",
       "23             0.702557 -0.228612  1.203623      0.324198          0.660165   \n",
       "24             0.576140  0.087878 -0.387437      1.590059          0.461477   \n",
       "25             0.615037  0.267702 -0.947409      2.422639         -0.251996   \n",
       "26             0.109369  0.864717 -0.260622      1.658025          0.353101   \n",
       "27             0.196888 -0.631417 -0.755775     -0.904282         -1.836687   \n",
       "28             0.187164  1.195593 -0.583270      1.912896         -0.023203   \n",
       "29             0.478896 -0.070367 -0.314000     -0.075101          0.217632   \n",
       "...                 ...       ...       ...           ...               ...   \n",
       "2093           0.819249  1.864538  0.649925     -0.553409          0.678228   \n",
       "2094           0.799801 -0.192647  0.425811     -0.785342         -1.808087   \n",
       "2095           0.624762 -0.926328  0.641441     -0.268803         -0.525945   \n",
       "2096           0.566415 -1.362940  0.196925     -0.269652          0.684248   \n",
       "2097           0.741454  0.210159  0.456035     -0.331671         -1.091906   \n",
       "2098           0.722005  1.605592  0.383392     -0.390292          0.952177   \n",
       "2099           0.517793  0.231737  0.849294      0.927394          0.241715   \n",
       "2100           0.576140  1.152436 -0.455662     -0.126075          0.753488   \n",
       "2101           0.692832  0.591385  2.821812      0.018352          0.825739   \n",
       "2102           0.819249  1.260330 -0.601477      2.116793          0.753488   \n",
       "2103          -1.563228 -0.156682 -0.097090      0.307206         -1.886629   \n",
       "2104           0.517793  0.425947  0.582761      0.349685          0.816707   \n",
       "2105           0.819249  1.339452 -0.459152      0.069327          0.888958   \n",
       "2106           0.683108  0.807174  1.498742      0.698009          0.837780   \n",
       "2107           0.556691  0.260509 -0.090728      0.290215         -1.284574   \n",
       "2108           0.741454  0.253316 -0.422874     -0.522825         -1.886653   \n",
       "2109           0.799801  0.181387  1.066160     -0.202536          0.801655   \n",
       "2110           0.206612  0.037528 -0.875476     -0.007135         -1.886642   \n",
       "2111           0.799801  0.627350  0.490543     -0.168553          0.684248   \n",
       "2112           0.712281  0.598578  0.595397     -0.269652          0.861864   \n",
       "2113           0.663659 -0.768083 -0.453495     -1.000793          0.431372   \n",
       "2114           0.741454 -0.063174 -0.030016     -0.709730         -1.886482   \n",
       "2115           0.809525  0.749630 -0.745611      1.054829          0.925083   \n",
       "2116           0.546966 -0.681768 -0.492600     -0.309582          0.657155   \n",
       "2117           0.790076  0.174194  0.575427     -0.356309          0.756499   \n",
       "2118           0.157991 -0.480365  1.535991      0.060831          0.410299   \n",
       "2119           0.751179  0.886296 -0.527154     -0.730970         -1.886660   \n",
       "2120           0.780352  1.174014  0.762289     -0.510081          0.714353   \n",
       "2121           0.770627  1.008576  0.380433     -0.202536          0.654144   \n",
       "2122           0.556691  0.936647  0.572378     -0.100588          0.807676   \n",
       "\n",
       "      duration_ms  acousticness  speechiness  sec_time_signature_range  \\\n",
       "0       -0.597610     -0.345203    -3.066970                  0.661342   \n",
       "1       -1.174172     -0.418860    -2.066163                  0.661342   \n",
       "2        1.708639      3.735404    -0.018884                 -1.512077   \n",
       "3        0.843796      4.663484     0.347440                 -1.512077   \n",
       "4        1.132077     -0.433591    -0.151547                  0.661342   \n",
       "5        1.132077      0.796483    -0.731865                  0.661342   \n",
       "6        1.132077      1.555152    -1.407847                 -1.512077   \n",
       "7       -0.885891      0.752289    -0.325042                  0.661342   \n",
       "8        1.420358      0.258786    -2.457153                  0.661342   \n",
       "9        1.708639     -0.455688    -1.476179                  0.661342   \n",
       "10       1.420358      1.437301    -0.235045                  0.661342   \n",
       "11       0.555515      0.936432     1.667405                 -1.512077   \n",
       "12       1.420358      3.610187    -0.361875                  0.661342   \n",
       "13      -0.021047      3.448141     1.045755                  0.661342   \n",
       "14      -0.309329      4.302564     0.391939                 -1.512077   \n",
       "15      -1.462453      2.254895    -0.032883                  0.661342   \n",
       "16      -0.309329      4.751873     0.768762                  0.661342   \n",
       "17      -0.309329     -0.256814     1.228083                  0.661342   \n",
       "18      -1.174172     -0.455688    -1.390514                 -1.512077   \n",
       "19       1.420358      2.652644     0.650432                  0.661342   \n",
       "20       1.708639      2.063386    -2.983972                  0.661342   \n",
       "21      -0.309329     -0.851964     1.563908                  0.661342   \n",
       "22       0.555515      0.096740     1.201917                  0.661342   \n",
       "23       1.132077      1.636175     0.117613                  0.661342   \n",
       "24      -0.309329     -0.470420     0.686098                  0.661342   \n",
       "25      -0.885891      0.074643     1.377746                 -1.512077   \n",
       "26      -0.885891      0.840678     1.747569                 -1.512077   \n",
       "27      -0.597610      0.730192    -2.065496                  0.661342   \n",
       "28       1.132077      2.159141     1.225417                 -1.512077   \n",
       "29      -0.309329      1.231061     0.716263                 -1.512077   \n",
       "...           ...           ...          ...                       ...   \n",
       "2093    -0.021047     -0.168425    -0.064216                  0.661342   \n",
       "2094    -0.597610     -0.411494    -0.504871                  0.661342   \n",
       "2095    -1.462453     -0.057940     0.121946                 -1.512077   \n",
       "2096     0.267234      1.312083    -0.428373                 -1.512077   \n",
       "2097     1.420358     -0.593427     0.066447                  0.661342   \n",
       "2098    -0.885891     -0.731166    -0.014717                  0.661342   \n",
       "2099     1.420358     -0.315740     2.049728                  0.661342   \n",
       "2100    -0.885891     -0.043208     0.634932                  0.661342   \n",
       "2101    -0.597610     -0.647197     0.707597                  0.661342   \n",
       "2102    -1.462453      0.244055     1.205750                 -1.512077   \n",
       "2103    -1.174172     -0.396763     0.798095                  0.661342   \n",
       "2104    -1.462453     -0.795984     0.596767                 -1.512077   \n",
       "2105    -0.021047     -0.718644    -0.373374                  0.661342   \n",
       "2106     1.420358     -0.635412     0.672598                  0.661342   \n",
       "2107    -0.309329     -0.389397     1.209584                 -1.512077   \n",
       "2108    -0.885891     -0.630992    -0.130048                  0.661342   \n",
       "2109     0.843796     -0.374665    -0.074882                  0.661342   \n",
       "2110     0.555515      1.245792     1.112086                 -1.512077   \n",
       "2111     1.420358      0.700729     0.068114                  0.661342   \n",
       "2112     0.267234     -0.569120    -0.558370                 -1.512077   \n",
       "2113    -1.462453     -0.256814    -1.756504                  0.661342   \n",
       "2114    -1.462453     -0.606686    -0.076382                 -1.512077   \n",
       "2115    -1.174172     -0.448323     0.169778                 -1.512077   \n",
       "2116    -1.462453     -0.681079    -0.652367                 -1.512077   \n",
       "2117    -0.885891     -0.183157    -0.534203                  0.661342   \n",
       "2118     1.132077     -0.396763     0.444604                  0.661342   \n",
       "2119    -1.462453     -0.433591     0.050781                  0.661342   \n",
       "2120     1.132077     -0.532292    -0.329876                  0.661342   \n",
       "2121    -1.462453      0.273518     0.169945                  0.661342   \n",
       "2122    -0.309329      1.407838     0.292441                  0.661342   \n",
       "\n",
       "      seg_duration_range  ...  sec_key_range  liveness  time_signature  \\\n",
       "0              -0.399516  ...      -0.114207 -0.114207       -0.751827   \n",
       "1              -0.250176  ...      -0.616202 -0.616202       -0.902028   \n",
       "2              -0.360216  ...      -0.614479 -0.614479        0.348017   \n",
       "3              -0.175506  ...      -1.294138 -1.294138       -0.875000   \n",
       "4               0.614424  ...      -0.860099 -0.860099       -0.646890   \n",
       "5              -0.301266  ...      -0.300452 -0.300452       -0.499783   \n",
       "6               0.048504  ...      -1.064762 -1.064762       -0.968621   \n",
       "7              -0.037956  ...      -0.798268 -0.798268       -0.822735   \n",
       "8              -0.049746  ...      -1.318813 -1.318813       -1.190055   \n",
       "9              -0.085116  ...       0.187176  0.187176       -0.600975   \n",
       "10             -0.254106  ...      -1.115170 -1.115170       -0.707540   \n",
       "11             -0.258036  ...      -0.772753 -0.772753       -0.950873   \n",
       "12             -0.470256  ...      -0.523113 -0.523113       -0.409255   \n",
       "13              0.649794  ...      -1.150751 -1.150751       -0.234469   \n",
       "14              0.370764  ...      -0.667729 -0.667729       -1.188264   \n",
       "15              0.013134  ...      -1.094205 -1.094205       -1.561364   \n",
       "16              0.001344  ...      -1.434449 -1.434449       -0.304400   \n",
       "17              0.288234  ...       0.015848  0.015848        1.067677   \n",
       "18             -0.159786  ...      -0.256018 -0.256018        0.172335   \n",
       "19             -0.053676  ...      -1.202934 -1.202934       -0.177238   \n",
       "20             -0.489906  ...      -0.945738 -0.945738        0.911941   \n",
       "21             -0.588156  ...      -0.863883 -0.863883        0.966729   \n",
       "22             -0.128346  ...      -0.103978 -0.103978       -0.056019   \n",
       "23             -0.238386  ...       1.042614  1.042614        0.015621   \n",
       "24              0.614424  ...      -0.756540 -0.756540        0.460036   \n",
       "25              3.271104  ...      -1.276494 -1.276494       -1.036679   \n",
       "26              0.417924  ...      -0.008681 -0.008681        0.018064   \n",
       "27              0.131034  ...      -0.353466 -0.353466       -0.829899   \n",
       "28             -0.226596  ...      -1.087017 -1.087017       -0.250507   \n",
       "29              0.068154  ...      -0.389206 -0.389206        0.683261   \n",
       "...                  ...  ...            ...       ...             ...   \n",
       "2093            0.032784  ...       0.299288  0.299288       -0.877768   \n",
       "2094            0.111384  ...       0.312622  0.312622       -0.259787   \n",
       "2095           -0.482046  ...       0.247543  0.247543       -0.226979   \n",
       "2096            0.370764  ...      -0.303337 -0.303337        0.114127   \n",
       "2097           -0.285546  ...       0.735474  0.735474       -0.462334   \n",
       "2098            0.881664  ...       0.495925  0.495925       -0.667812   \n",
       "2099           -0.340566  ...      -0.701146 -0.701146       -1.102051   \n",
       "2100           -0.065466  ...      -0.779343 -0.779343       -0.845204   \n",
       "2101           -0.356286  ...       0.618933  0.618933        0.264897   \n",
       "2102           -0.348426  ...      -0.373298 -0.373298       -1.345059   \n",
       "2103           -0.151926  ...      -0.555406 -0.555406        1.802480   \n",
       "2104           -0.344496  ...       1.006400  1.006400        0.246987   \n",
       "2105            0.103524  ...      -0.219846 -0.219846       -1.181262   \n",
       "2106           -0.395586  ...       0.473708  0.473708       -0.392322   \n",
       "2107           -0.061536  ...      -0.165159 -0.165159       -1.053449   \n",
       "2108           -0.116556  ...       1.221345  1.221345       -0.167062   \n",
       "2109           -0.395586  ...       0.201369  0.201369       -0.427573   \n",
       "2110            0.296094  ...      -0.287199 -0.287199       -1.454310   \n",
       "2111           -0.030096  ...      -0.289753 -0.289753       -0.518100   \n",
       "2112           -0.191226  ...      -0.748963 -0.748963       -0.713483   \n",
       "2113           -0.293406  ...      -0.518550 -0.518550       -0.256938   \n",
       "2114            0.508314  ...       0.438147  0.438147        1.703486   \n",
       "2115           -0.395586  ...      -1.053474 -1.053474       -1.084385   \n",
       "2116            0.099594  ...      -0.289696 -0.289696        0.182511   \n",
       "2117            0.072084  ...       1.024898  1.024898       -0.222583   \n",
       "2118           -0.293406  ...       1.797904  1.797904       -0.151594   \n",
       "2119            0.555474  ...       0.619263  0.619263       -0.830713   \n",
       "2120            0.127104  ...      -0.247589 -0.247589       -0.699643   \n",
       "2121           -0.324846  ...       0.935717  0.935717        1.595049   \n",
       "2122           -0.226596  ...       0.694435  0.694435        1.655048   \n",
       "\n",
       "      sec_mode_range  sec_duration_range  no_unique_pitches  no_segments  \\\n",
       "0          -0.206105           -0.293466           0.466921    -0.695168   \n",
       "1          -0.585274           -0.550939           0.466921    -0.695168   \n",
       "2           0.552233           -0.621966           0.466921    -0.695168   \n",
       "3           0.173064           -0.641776           0.466921     0.617859   \n",
       "4          -1.343613           -0.608379          -2.141691    -0.695168   \n",
       "5          -0.206105           -0.515867           0.466921     1.274372   \n",
       "6           0.931402           -0.635773           0.466921     0.617859   \n",
       "7          -0.585274           -0.567937           0.466921    -1.351682   \n",
       "8          -0.585274           -0.793056          -2.141691    -0.695168   \n",
       "9           0.552233            1.006568           0.466921     0.617859   \n",
       "10          0.552233           -0.684399          -2.141691    -0.038655   \n",
       "11         -0.585274           -0.758016           0.466921     1.274372   \n",
       "12          0.552233           -0.788317           0.466921    -0.038655   \n",
       "13         -1.722782           -0.653403           0.466921    -0.695168   \n",
       "14         -0.585274            0.307293           0.466921    -0.695168   \n",
       "15         -1.343613           -0.745789           0.466921    -1.351682   \n",
       "16         -0.964443           -0.754225           0.466921    -1.351682   \n",
       "17          0.931402           -0.476878           0.466921    -0.038655   \n",
       "18          0.552233            0.464355           0.466921     1.274372   \n",
       "19         -0.964443           -0.625599          -2.141691    -0.038655   \n",
       "20         -0.585274           -0.713593          -2.141691     0.617859   \n",
       "21          0.931402           -0.432013          -2.141691    -0.038655   \n",
       "22         -0.206105           -0.705378           0.466921    -0.695168   \n",
       "23          0.931402            0.756931           0.466921     1.274372   \n",
       "24          0.552233           -0.548790           0.466921    -0.038655   \n",
       "25         -0.585274           -0.742566           0.466921    -1.351682   \n",
       "26          0.552233            0.722491           0.466921     1.274372   \n",
       "27         -1.722782           -0.578585          -2.141691    -0.038655   \n",
       "28          0.173064           -0.444904           0.466921    -0.695168   \n",
       "29          0.931402           -0.586326           0.466921    -0.695168   \n",
       "...              ...                 ...                ...          ...   \n",
       "2093       -1.343613           -0.598711           0.466921    -1.351682   \n",
       "2094        0.552233           -0.500038           0.466921     0.617859   \n",
       "2095        0.552233           -0.547210           0.466921     1.274372   \n",
       "2096        0.552233            1.815100           0.466921    -0.695168   \n",
       "2097        0.552233           -0.514604          -2.141691    -1.351682   \n",
       "2098        0.173064           -0.355930           0.466921    -0.695168   \n",
       "2099       -0.585274           -0.329264           0.466921    -0.695168   \n",
       "2100       -0.585274           -0.410054           0.466921    -1.351682   \n",
       "2101        0.931402           -0.186167           0.466921     0.617859   \n",
       "2102       -0.585274           -0.739470           0.466921     0.617859   \n",
       "2103        0.552233           -0.500228           0.466921    -0.038655   \n",
       "2104        0.552233           -0.159500           0.466921     0.617859   \n",
       "2105       -0.206105           -0.707748           0.466921     0.617859   \n",
       "2106       -0.206105           -0.265567           0.466921     0.617859   \n",
       "2107        0.931402           -0.632834           0.466921    -0.695168   \n",
       "2108        0.173064           -0.169832           0.466921    -0.695168   \n",
       "2109        0.931402           -0.279564           0.466921    -0.695168   \n",
       "2110       -2.101951           -0.605852           0.466921    -1.351682   \n",
       "2111        0.552233           -0.424840           0.466921    -0.038655   \n",
       "2112        0.931402           -0.204840           0.466921     1.274372   \n",
       "2113        0.173064           -0.422123           0.466921    -0.038655   \n",
       "2114        0.552233           -0.666168           0.466921    -0.038655   \n",
       "2115       -0.206105            1.970898           0.466921    -1.351682   \n",
       "2116        0.552233           -0.730812           0.466921     0.617859   \n",
       "2117       -0.585274            1.418290           0.466921     1.274372   \n",
       "2118        0.931402            1.562777           0.466921     0.617859   \n",
       "2119        0.931402           -0.604841           0.466921    -0.695168   \n",
       "2120        0.173064           -0.518079           0.466921     1.274372   \n",
       "2121        0.173064           -0.542566           0.466921     0.617859   \n",
       "2122        0.552233           -0.620891           0.466921    -1.351682   \n",
       "\n",
       "      mean_pitch      mode  no_sections  \n",
       "0      -0.311422 -0.049848    -0.230527  \n",
       "1      -0.477337 -1.275272    -0.303023  \n",
       "2       0.131017 -0.301217     0.188947  \n",
       "3      -0.138594 -0.254085     0.222484  \n",
       "4      -0.581033 -0.615428    -0.555043  \n",
       "5       0.587282  0.484312     0.517400  \n",
       "6      -1.085690  0.500022    -1.069639  \n",
       "7       0.310758 -0.364059     0.349508  \n",
       "8      -3.083578 -0.772534    -3.736436  \n",
       "9       0.213974  0.028705     0.239879  \n",
       "10     -0.601773 -0.552586    -0.562545  \n",
       "11     -0.339074 -0.992481     0.021379  \n",
       "12     -1.217039 -1.479509    -1.024897  \n",
       "13     -0.850644 -0.929639    -0.727588  \n",
       "14     -0.947428 -0.961060    -0.894225  \n",
       "15     -1.929089 -0.961060    -1.647087  \n",
       "16     -0.663991 -0.929639    -0.346604  \n",
       "17      0.843067  0.939918     0.857479  \n",
       "18     -0.504989 -0.364059    -0.413555  \n",
       "19     -1.210126 -0.772534    -0.860591  \n",
       "20     -0.615599 -1.463798     0.038030  \n",
       "21     -0.131681 -0.474033    -0.203547  \n",
       "22      0.732457 -0.049848     0.809527  \n",
       "23      1.008982  1.442656     1.020704  \n",
       "24      0.677152  0.358627     0.632663  \n",
       "25     -0.601773 -1.432377    -0.311881  \n",
       "26      0.808501  0.012995     0.815018  \n",
       "27     -1.258518  1.332682    -1.319917  \n",
       "28      0.587282  0.028705     0.613579  \n",
       "29      0.552716  0.955629     0.479976  \n",
       "...          ...       ...          ...  \n",
       "2093    0.863806  3.265082     0.814212  \n",
       "2094    0.573456  1.505498     0.610308  \n",
       "2095    1.002069  0.390048     0.976658  \n",
       "2096    0.725544  0.154390     0.650864  \n",
       "2097    0.822328  1.285550     0.813649  \n",
       "2098    0.677152  2.479553     0.615333  \n",
       "2099    0.898372  1.772578     0.865535  \n",
       "2100   -0.276856 -0.238374    -0.426454  \n",
       "2101    1.015895  1.913973     1.030863  \n",
       "2102   -0.290683  0.138679    -0.241711  \n",
       "2103    0.317671 -0.316927     0.285957  \n",
       "2104    0.953677  0.484312     0.955101  \n",
       "2105   -0.511902  0.861365    -0.346240  \n",
       "2106    0.995155  1.536919     0.985057  \n",
       "2107    0.462846  0.924207     0.404680  \n",
       "2108    0.359149  0.028705     0.276800  \n",
       "2109    0.919111  2.008236     0.914912  \n",
       "2110   -1.223952 -0.254085    -1.289781  \n",
       "2111    0.801588  0.625707     0.753081  \n",
       "2112    0.870719  1.364103     0.901741  \n",
       "2113   -0.304509 -0.065558    -0.371060  \n",
       "2114    0.511238  0.484312     0.516311  \n",
       "2115   -1.521216  0.185811    -1.484993  \n",
       "2116   -0.186986 -0.536875    -0.372050  \n",
       "2117    0.635674  1.175576     0.579253  \n",
       "2118    1.029721  1.144155     1.009913  \n",
       "2119    0.220887  0.719970     0.260385  \n",
       "2120    0.780849  0.704260     0.792368  \n",
       "2121    0.704805  1.081313     0.646645  \n",
       "2122    0.836154  0.798523     0.852893  \n",
       "\n",
       "[2123 rows x 25 columns]"
      ]
     },
     "execution_count": 35,
     "metadata": {},
     "output_type": "execute_result"
    }
   ],
   "source": [
    "from sklearn.preprocessing import StandardScaler\n",
    "# scaling data\n",
    "scaler = StandardScaler()\n",
    "scaler.fit(X)\n",
    "X_scaled = pd.DataFrame(scaler.transform(X))\n",
    "columns = set(data.columns) - {'ballet'}\n",
    "X_scaled.columns = columns\n",
    "X_scaled\n"
   ]
  },
  {
   "cell_type": "markdown",
   "metadata": {},
   "source": [
    "## Functions Used All Over"
   ]
  },
  {
   "cell_type": "code",
   "execution_count": 298,
   "metadata": {},
   "outputs": [],
   "source": [
    "# function to evaluate models\n",
    "\n",
    "from sklearn.metrics import classification_report\n",
    "from sklearn.metrics import roc_auc_score\n",
    "from sklearn.metrics import accuracy_score\n",
    "from sklearn.metrics import roc_curve, auc\n",
    "from sklearn.metrics import confusion_matrix\n",
    "\n",
    "def evaluation(y_test, y_pred):\n",
    "    print('classification report: \\n')\n",
    "    print(classification_report(y_test, y_pred))\n",
    "    print(\"ROC AUC:\", roc_auc_score(y_test, y_pred))\n",
    "    print(\"Accuracy score:\", accuracy_score(y_test, y_pred))\n",
    "    \n",
    "    \n",
    "# from sklearn\n",
    "def plot_roc_curve(y_test, y_pred):\n",
    "    # Compute ROC curve and ROC area for each class\n",
    "    fpr = dict()\n",
    "    tpr = dict()\n",
    "    roc_auc = dict()\n",
    "    for i in range(2):\n",
    "        fpr[i], tpr[i], _ = roc_curve(y_test, y_pred)\n",
    "        roc_auc[i] = auc(fpr[i], tpr[i])\n",
    "\n",
    "    # Compute micro-average ROC curve and ROC area\n",
    "    fpr[\"micro\"], tpr[\"micro\"], _ = roc_curve(y_test.ravel(), y_pred.ravel())\n",
    "    roc_auc[\"micro\"] = auc(fpr[\"micro\"], tpr[\"micro\"])\n",
    "\n",
    "\n",
    "    # Plot of a ROC curve for a specific class\n",
    "    plt.plot(fpr[1], tpr[1], label='ROC curve (area = %0.2f)' % roc_auc[1])\n",
    "    plt.plot([0, 1], [0, 1], 'k--')\n",
    "    plt.xlim([0.0, 1.0])\n",
    "    plt.ylim([0.0, 1.05])\n",
    "    plt.xlabel('False Positive Rate')\n",
    "    plt.ylabel('True Positive Rate')\n",
    "    plt.title('Receiver operating characteristic example')\n",
    "    plt.legend(loc=\"lower right\")\n",
    "    plt.show()\n",
    "\n",
    "# directly taken from sklearn documentation\n",
    "def plot_confusion_matrix(y_true, y_pred, classes,\n",
    "                          normalize=False,\n",
    "                          title=None,\n",
    "                          cmap=plt.cm.Blues):\n",
    "    \"\"\"\n",
    "    This function prints and plots the confusion matrix.\n",
    "    Normalization can be applied by setting `normalize=True`.\n",
    "    \"\"\"\n",
    "    if not title:\n",
    "        if normalize:\n",
    "            title = 'Normalized confusion matrix'\n",
    "        else:\n",
    "            title = 'Confusion matrix, without normalization'\n",
    "\n",
    "    # Compute confusion matrix\n",
    "    cm = confusion_matrix(y_true, y_pred)\n",
    "    \n",
    "    if normalize:\n",
    "        cm = cm.astype('float') / cm.sum(axis=1)[:, np.newaxis]\n",
    "        print(\"Normalized confusion matrix\")\n",
    "    else:\n",
    "        print('Confusion matrix, without normalization')\n",
    "\n",
    "    print(cm)\n",
    "\n",
    "    fig, ax = plt.subplots()\n",
    "    im = ax.imshow(cm, interpolation='nearest', cmap=cmap)\n",
    "    ax.figure.colorbar(im, ax=ax)\n",
    "    # We want to show all ticks...\n",
    "    ax.set(xticks=np.arange(cm.shape[1]),\n",
    "           yticks=np.arange(cm.shape[0]),\n",
    "           # ... and label them with the respective list entries\n",
    "           xticklabels=classes, yticklabels=classes,\n",
    "           title=title,\n",
    "           ylabel='True label',\n",
    "           xlabel='Predicted label')\n",
    "\n",
    "    # Rotate the tick labels and set their alignment.\n",
    "    plt.setp(ax.get_xticklabels(), rotation=45, ha=\"right\",\n",
    "             rotation_mode=\"anchor\")\n",
    "\n",
    "    # Loop over data dimensions and create text annotations.\n",
    "    fmt = '.2f' if normalize else 'd'\n",
    "    thresh = cm.max() / 2.\n",
    "    for i in range(cm.shape[0]):\n",
    "        for j in range(cm.shape[1]):\n",
    "            ax.text(j, i, format(cm[i, j], fmt),\n",
    "                    ha=\"center\", va=\"center\",\n",
    "                    color=\"white\" if cm[i, j] > thresh else \"black\")\n",
    "    fig.tight_layout()\n",
    "    return ax\n",
    "\n",
    "def plt_cm():\n",
    "    \n",
    "    # Plot non-normalized confusion matrix\n",
    "    plot_confusion_matrix(y_test, y_pred, classes=['non-ballet', 'ballet'],\n",
    "                          title='Confusion matrix, without normalization')\n",
    "\n",
    "    # Plot normalized confusion matrix\n",
    "    plot_confusion_matrix(y_test, y_pred, classes=['non-ballet', 'ballet'], normalize=True,\n",
    "                          title='Normalized confusion matrix')\n",
    "\n",
    "    plt.show()"
   ]
  },
  {
   "cell_type": "markdown",
   "metadata": {},
   "source": [
    "## Basic Models\n",
    "All data thrown into the basic model, just to see what happens."
   ]
  },
  {
   "cell_type": "markdown",
   "metadata": {},
   "source": [
    "### Dummy Classifier -- Used for Baseline Comparisons"
   ]
  },
  {
   "cell_type": "code",
   "execution_count": 299,
   "metadata": {},
   "outputs": [
    {
     "name": "stdout",
     "output_type": "stream",
     "text": [
      "classification report: \n",
      "\n",
      "              precision    recall  f1-score   support\n",
      "\n",
      "           0       0.51      0.53      0.52       215\n",
      "           1       0.50      0.49      0.49       210\n",
      "\n",
      "   micro avg       0.51      0.51      0.51       425\n",
      "   macro avg       0.51      0.51      0.51       425\n",
      "weighted avg       0.51      0.51      0.51       425\n",
      "\n",
      "ROC AUC: 0.5056478405315614\n",
      "Accuracy score: 0.5058823529411764\n"
     ]
    },
    {
     "data": {
      "image/png": "[encoded data removed]",
      "text/plain": [
       "<Figure size 432x288 with 1 Axes>"
      ]
     },
     "metadata": {
      "needs_background": "light"
     },
     "output_type": "display_data"
    },
    {
     "name": "stdout",
     "output_type": "stream",
     "text": [
      "Confusion matrix, without normalization\n",
      "[[113 102]\n",
      " [108 102]]\n",
      "Normalized confusion matrix\n",
      "[[0.5255814  0.4744186 ]\n",
      " [0.51428571 0.48571429]]\n"
     ]
    },
    {
     "data": {
      "image/png": "[encoded data removed]",
      "text/plain": [
       "<Figure size 432x288 with 2 Axes>"
      ]
     },
     "metadata": {
      "needs_background": "light"
     },
     "output_type": "display_data"
    },
    {
     "data": {
      "image/png": "[encoded data removed]",
      "text/plain": [
       "<Figure size 432x288 with 2 Axes>"
      ]
     },
     "metadata": {
      "needs_background": "light"
     },
     "output_type": "display_data"
    }
   ],
   "source": [
    "from sklearn.dummy import DummyClassifier\n",
    "# using non-scaled data\n",
    "X_train, X_test, y_train, y_test = train_test_split(X, y, \n",
    "                                                    test_size=0.2, \n",
    "                                                    random_state=42)\n",
    "\n",
    "dc = DummyClassifier()\n",
    "dc.fit(X_train, y_train)\n",
    "y_pred = dc.predict(X_test)\n",
    "evaluation(y_test, y_pred)\n",
    "plot_roc_curve(y_test, y_pred)\n",
    "\n",
    "plt_cm()"
   ]
  },
  {
   "cell_type": "markdown",
   "metadata": {},
   "source": [
    "### Logistic Regression"
   ]
  },
  {
   "cell_type": "code",
   "execution_count": 300,
   "metadata": {},
   "outputs": [],
   "source": [
    "from sklearn.model_selection import train_test_split\n",
    "# use scaled data for interpretability\n",
    "# have random state for reproducability\n",
    "X_train, X_test, y_train, y_test = train_test_split(X_scaled, y, \n",
    "                                                    test_size=0.2, \n",
    "                                                    random_state=42)"
   ]
  },
  {
   "cell_type": "code",
   "execution_count": 301,
   "metadata": {},
   "outputs": [],
   "source": [
    "from sklearn.linear_model import LogisticRegression\n",
    "lr = LogisticRegression(solver='lbfgs')\n",
    "lr.fit(X_train, y_train)\n",
    "y_pred = lr.predict(X_test)"
   ]
  },
  {
   "cell_type": "code",
   "execution_count": 302,
   "metadata": {},
   "outputs": [
    {
     "data": {
      "text/plain": [
       "{'no_unique_timbres': -0.0809215629759104,\n",
       " 'tempo': 0.1298113896062884,\n",
       " 'valence': -1.5970014888784207,\n",
       " 'danceability': -0.06548472702465596,\n",
       " 'instrumentalness': 0.07591734104412191,\n",
       " 'duration_ms': 0.09373171212513265,\n",
       " 'acousticness': 0.3981428317384476,\n",
       " 'speechiness': -0.03295304071578723,\n",
       " 'sec_time_signature_range': 0.16578279981599361,\n",
       " 'seg_duration_range': 0.04261170554647233,\n",
       " 'sec_tempo_range': 0.0780097898424133,\n",
       " 'sec_loudness_range': 0.031085584769035186,\n",
       " 'energy': -0.1802578782587597,\n",
       " 'key': 0.5490815555359821,\n",
       " 'loudness': -1.422808074514123,\n",
       " 'sec_key_range': -0.24980193734109948,\n",
       " 'liveness': -0.24980193734109948,\n",
       " 'time_signature': -0.18187726723275513,\n",
       " 'sec_mode_range': 0.06124123946409796,\n",
       " 'sec_duration_range': 0.16561093760674808,\n",
       " 'no_unique_pitches': -0.10238250404269321,\n",
       " 'no_segments': 0.045884099709049685,\n",
       " 'mean_pitch': 0.7870807881945402,\n",
       " 'mode': -0.6302631460934892,\n",
       " 'no_sections': -0.49703779968968487}"
      ]
     },
     "execution_count": 302,
     "metadata": {},
     "output_type": "execute_result"
    }
   ],
   "source": [
    "coefs = {X_scaled.columns[i]: lr.coef_[0][i] for i in range (len(lr.coef_[0]))}\n",
    "coefs"
   ]
  },
  {
   "cell_type": "code",
   "execution_count": 303,
   "metadata": {},
   "outputs": [
    {
     "name": "stdout",
     "output_type": "stream",
     "text": [
      "classification report: \n",
      "\n",
      "              precision    recall  f1-score   support\n",
      "\n",
      "           0       0.80      0.79      0.80       215\n",
      "           1       0.79      0.80      0.80       210\n",
      "\n",
      "   micro avg       0.80      0.80      0.80       425\n",
      "   macro avg       0.80      0.80      0.80       425\n",
      "weighted avg       0.80      0.80      0.80       425\n",
      "\n",
      "ROC AUC: 0.7954042081949059\n",
      "Accuracy score: 0.7952941176470588\n"
     ]
    },
    {
     "data": {
      "image/png": "[encoded data removed]",
      "text/plain": [
       "<Figure size 432x288 with 1 Axes>"
      ]
     },
     "metadata": {
      "needs_background": "light"
     },
     "output_type": "display_data"
    },
    {
     "name": "stdout",
     "output_type": "stream",
     "text": [
      "Confusion matrix, without normalization\n",
      "[[169  46]\n",
      " [ 41 169]]\n",
      "Normalized confusion matrix\n",
      "[[0.78604651 0.21395349]\n",
      " [0.1952381  0.8047619 ]]\n"
     ]
    },
    {
     "data": {
      "image/png": "[encoded data removed]",
      "text/plain": [
       "<Figure size 432x288 with 2 Axes>"
      ]
     },
     "metadata": {
      "needs_background": "light"
     },
     "output_type": "display_data"
    },
    {
     "data": {
      "image/png": "[encoded data removed]",
      "text/plain": [
       "<Figure size 432x288 with 2 Axes>"
      ]
     },
     "metadata": {
      "needs_background": "light"
     },
     "output_type": "display_data"
    }
   ],
   "source": [
    "evaluation(y_test, y_pred)\n",
    "plot_roc_curve(y_test, y_pred)\n",
    "plt_cm()"
   ]
  },
  {
   "cell_type": "markdown",
   "metadata": {},
   "source": [
    "Well that was unexpected... It's surprisingly high without being so eerily accurate that I suspect overfitting... Let's see how all the other models fair!"
   ]
  },
  {
   "cell_type": "markdown",
   "metadata": {},
   "source": [
    "### KNN"
   ]
  },
  {
   "cell_type": "code",
   "execution_count": 304,
   "metadata": {},
   "outputs": [],
   "source": [
    "# using non-scaled data\n",
    "X_train, X_test, y_train, y_test = train_test_split(X, y, \n",
    "                                                    test_size=0.2, \n",
    "                                                    random_state=42)\n",
    "\n",
    "from sklearn.neighbors import KNeighborsClassifier\n",
    "knc = KNeighborsClassifier(n_neighbors=5)\n",
    "knc.fit(X_train, y_train)\n",
    "y_pred = knc.predict(X_test)"
   ]
  },
  {
   "cell_type": "code",
   "execution_count": 305,
   "metadata": {},
   "outputs": [
    {
     "name": "stdout",
     "output_type": "stream",
     "text": [
      "classification report: \n",
      "\n",
      "              precision    recall  f1-score   support\n",
      "\n",
      "           0       0.77      0.82      0.79       215\n",
      "           1       0.80      0.75      0.78       210\n",
      "\n",
      "   micro avg       0.79      0.79      0.79       425\n",
      "   macro avg       0.79      0.79      0.79       425\n",
      "weighted avg       0.79      0.79      0.79       425\n",
      "\n",
      "ROC AUC: 0.7854928017718714\n",
      "Accuracy score: 0.7858823529411765\n"
     ]
    },
    {
     "data": {
      "image/png": "[encoded data removed]",
      "text/plain": [
       "<Figure size 432x288 with 1 Axes>"
      ]
     },
     "metadata": {
      "needs_background": "light"
     },
     "output_type": "display_data"
    },
    {
     "name": "stdout",
     "output_type": "stream",
     "text": [
      "Confusion matrix, without normalization\n",
      "[[176  39]\n",
      " [ 52 158]]\n",
      "Normalized confusion matrix\n",
      "[[0.81860465 0.18139535]\n",
      " [0.24761905 0.75238095]]\n"
     ]
    },
    {
     "data": {
      "image/png": "[encoded data removed]",
      "text/plain": [
       "<Figure size 432x288 with 2 Axes>"
      ]
     },
     "metadata": {
      "needs_background": "light"
     },
     "output_type": "display_data"
    },
    {
     "data": {
      "image/png": "[encoded data removed]",
      "text/plain": [
       "<Figure size 432x288 with 2 Axes>"
      ]
     },
     "metadata": {
      "needs_background": "light"
     },
     "output_type": "display_data"
    }
   ],
   "source": [
    "evaluation(y_test, y_pred)\n",
    "plot_roc_curve(y_test, y_pred)\n",
    "plt_cm()"
   ]
  },
  {
   "cell_type": "markdown",
   "metadata": {},
   "source": [
    "### SVM"
   ]
  },
  {
   "cell_type": "code",
   "execution_count": 306,
   "metadata": {},
   "outputs": [],
   "source": [
    "# need to use scaled data for SVMs\n",
    "# have random state for reproducability\n",
    "X_train, X_test, y_train, y_test = train_test_split(X_scaled, y, \n",
    "                                                    test_size=0.2, \n",
    "                                                    random_state=42)"
   ]
  },
  {
   "cell_type": "code",
   "execution_count": 307,
   "metadata": {},
   "outputs": [
    {
     "name": "stderr",
     "output_type": "stream",
     "text": [
      "/Users/hannah/anaconda3/lib/python3.7/site-packages/sklearn/svm/base.py:196: FutureWarning: The default value of gamma will change from 'auto' to 'scale' in version 0.22 to account better for unscaled features. Set gamma explicitly to 'auto' or 'scale' to avoid this warning.\n",
      "  \"avoid this warning.\", FutureWarning)\n"
     ]
    }
   ],
   "source": [
    "from sklearn.svm import SVC\n",
    "\n",
    "svc = SVC()\n",
    "svc.fit(X_train, y_train)\n",
    "y_pred = svc.predict(X_test)"
   ]
  },
  {
   "cell_type": "code",
   "execution_count": 308,
   "metadata": {},
   "outputs": [
    {
     "name": "stdout",
     "output_type": "stream",
     "text": [
      "classification report: \n",
      "\n",
      "              precision    recall  f1-score   support\n",
      "\n",
      "           0       0.82      0.81      0.82       215\n",
      "           1       0.81      0.82      0.82       210\n",
      "\n",
      "   micro avg       0.82      0.82      0.82       425\n",
      "   macro avg       0.82      0.82      0.82       425\n",
      "weighted avg       0.82      0.82      0.82       425\n",
      "\n",
      "ROC AUC: 0.8165559246954597\n",
      "Accuracy score: 0.8164705882352942\n"
     ]
    },
    {
     "data": {
      "image/png": "[encoded data removed]",
      "text/plain": [
       "<Figure size 432x288 with 1 Axes>"
      ]
     },
     "metadata": {
      "needs_background": "light"
     },
     "output_type": "display_data"
    },
    {
     "name": "stdout",
     "output_type": "stream",
     "text": [
      "Confusion matrix, without normalization\n",
      "[[174  41]\n",
      " [ 37 173]]\n",
      "Normalized confusion matrix\n",
      "[[0.80930233 0.19069767]\n",
      " [0.17619048 0.82380952]]\n"
     ]
    },
    {
     "data": {
      "image/png": "[encoded data removed]",
      "text/plain": [
       "<Figure size 432x288 with 2 Axes>"
      ]
     },
     "metadata": {
      "needs_background": "light"
     },
     "output_type": "display_data"
    },
    {
     "data": {
      "image/png": "[encoded data removed]",
      "text/plain": [
       "<Figure size 432x288 with 2 Axes>"
      ]
     },
     "metadata": {
      "needs_background": "light"
     },
     "output_type": "display_data"
    }
   ],
   "source": [
    "evaluation(y_test, y_pred)\n",
    "plot_roc_curve(y_test, y_pred)\n",
    "plt_cm()"
   ]
  },
  {
   "cell_type": "markdown",
   "metadata": {},
   "source": [
    "### Random Forest"
   ]
  },
  {
   "cell_type": "code",
   "execution_count": 309,
   "metadata": {},
   "outputs": [],
   "source": [
    "# using non-scaled data\n",
    "X_train, X_test, y_train, y_test = train_test_split(X, y, \n",
    "                                                    test_size=0.2, \n",
    "                                                    random_state=42)"
   ]
  },
  {
   "cell_type": "code",
   "execution_count": 310,
   "metadata": {},
   "outputs": [
    {
     "name": "stderr",
     "output_type": "stream",
     "text": [
      "/Users/hannah/anaconda3/lib/python3.7/site-packages/sklearn/ensemble/forest.py:246: FutureWarning: The default value of n_estimators will change from 10 in version 0.20 to 100 in 0.22.\n",
      "  \"10 in version 0.20 to 100 in 0.22.\", FutureWarning)\n"
     ]
    }
   ],
   "source": [
    "from sklearn.ensemble import RandomForestClassifier\n",
    "\n",
    "rfc = RandomForestClassifier()\n",
    "rfc.fit(X_train, y_train)\n",
    "y_pred = rfc.predict(X_test)"
   ]
  },
  {
   "cell_type": "code",
   "execution_count": 311,
   "metadata": {},
   "outputs": [
    {
     "name": "stdout",
     "output_type": "stream",
     "text": [
      "classification report: \n",
      "\n",
      "              precision    recall  f1-score   support\n",
      "\n",
      "           0       0.80      0.82      0.81       215\n",
      "           1       0.81      0.79      0.80       210\n",
      "\n",
      "   micro avg       0.81      0.81      0.81       425\n",
      "   macro avg       0.81      0.81      0.81       425\n",
      "weighted avg       0.81      0.81      0.81       425\n",
      "\n",
      "ROC AUC: 0.8068660022148394\n",
      "Accuracy score: 0.8070588235294117\n"
     ]
    },
    {
     "data": {
      "image/png": "[encoded data removed]",
      "text/plain": [
       "<Figure size 432x288 with 1 Axes>"
      ]
     },
     "metadata": {
      "needs_background": "light"
     },
     "output_type": "display_data"
    },
    {
     "name": "stdout",
     "output_type": "stream",
     "text": [
      "Confusion matrix, without normalization\n",
      "[[177  38]\n",
      " [ 44 166]]\n",
      "Normalized confusion matrix\n",
      "[[0.82325581 0.17674419]\n",
      " [0.20952381 0.79047619]]\n"
     ]
    },
    {
     "data": {
      "image/png": "[encoded data removed]",
      "text/plain": [
       "<Figure size 432x288 with 2 Axes>"
      ]
     },
     "metadata": {
      "needs_background": "light"
     },
     "output_type": "display_data"
    },
    {
     "data": {
      "image/png": "[encoded data removed]",
      "text/plain": [
       "<Figure size 432x288 with 2 Axes>"
      ]
     },
     "metadata": {
      "needs_background": "light"
     },
     "output_type": "display_data"
    }
   ],
   "source": [
    "evaluation(y_test, y_pred)\n",
    "plot_roc_curve(y_test, y_pred)\n",
    "plt_cm()"
   ]
  },
  {
   "cell_type": "markdown",
   "metadata": {},
   "source": [
    "### XGBoost"
   ]
  },
  {
   "cell_type": "code",
   "execution_count": 95,
   "metadata": {},
   "outputs": [
    {
     "name": "stdout",
     "output_type": "stream",
     "text": [
      "Collecting xgboost\n",
      "\u001b[?25l  Downloading https://files.pythonhosted.org/packages/96/84/4e2cae6247f397f83d8adc5c2a2a0c5d7d790a14a4c7400ff6574586f589/xgboost-0.90.tar.gz (676kB)\n",
      "\u001b[K    100% |████████████████████████████████| 686kB 6.6MB/s ta 0:00:01\n",
      "\u001b[?25hRequirement already satisfied: numpy in /Users/hannah/anaconda3/lib/python3.7/site-packages (from xgboost) (1.16.2)\n",
      "Requirement already satisfied: scipy in /Users/hannah/anaconda3/lib/python3.7/site-packages (from xgboost) (1.2.1)\n",
      "Building wheels for collected packages: xgboost\n",
      "  Building wheel for xgboost (setup.py) ... \u001b[?25ldone\n",
      "\u001b[?25h  Stored in directory: /Users/hannah/Library/Caches/pip/wheels/e9/48/4d/de4187b5270dff71d3697c5a7857a1e2d9a0c63a28b3462eeb\n",
      "Successfully built xgboost\n",
      "Installing collected packages: xgboost\n",
      "Successfully installed xgboost-0.90\n"
     ]
    }
   ],
   "source": [
    "!pip install xgboost\n",
    "import xgboost as xgb"
   ]
  },
  {
   "cell_type": "code",
   "execution_count": 312,
   "metadata": {},
   "outputs": [],
   "source": [
    "# can use the train and test from Random Forest\n",
    "xgbc = xgb.XGBRFClassifier()\n",
    "xgbc.fit(X_train, y_train)\n",
    "y_pred = xgbc.predict(X_test)"
   ]
  },
  {
   "cell_type": "code",
   "execution_count": 313,
   "metadata": {},
   "outputs": [
    {
     "name": "stdout",
     "output_type": "stream",
     "text": [
      "classification report: \n",
      "\n",
      "              precision    recall  f1-score   support\n",
      "\n",
      "           0       0.82      0.80      0.81       215\n",
      "           1       0.80      0.82      0.81       210\n",
      "\n",
      "   micro avg       0.81      0.81      0.81       425\n",
      "   macro avg       0.81      0.81      0.81       425\n",
      "weighted avg       0.81      0.81      0.81       425\n",
      "\n",
      "ROC AUC: 0.8095238095238095\n",
      "Accuracy score: 0.8094117647058824\n"
     ]
    },
    {
     "data": {
      "image/png": "[encoded data removed]",
      "text/plain": [
       "<Figure size 432x288 with 1 Axes>"
      ]
     },
     "metadata": {
      "needs_background": "light"
     },
     "output_type": "display_data"
    },
    {
     "name": "stdout",
     "output_type": "stream",
     "text": [
      "Confusion matrix, without normalization\n",
      "[[172  43]\n",
      " [ 38 172]]\n",
      "Normalized confusion matrix\n",
      "[[0.8        0.2       ]\n",
      " [0.18095238 0.81904762]]\n"
     ]
    },
    {
     "data": {
      "image/png": "[encoded data removed]",
      "text/plain": [
       "<Figure size 432x288 with 2 Axes>"
      ]
     },
     "metadata": {
      "needs_background": "light"
     },
     "output_type": "display_data"
    },
    {
     "data": {
      "image/png": "[encoded data removed]",
      "text/plain": [
       "<Figure size 432x288 with 2 Axes>"
      ]
     },
     "metadata": {
      "needs_background": "light"
     },
     "output_type": "display_data"
    }
   ],
   "source": [
    "evaluation(y_test, y_pred)\n",
    "plot_roc_curve(y_test, y_pred)\n",
    "plt_cm()"
   ]
  },
  {
   "cell_type": "markdown",
   "metadata": {},
   "source": [
    "## Parameter Tuning & Visualizations\n",
    "- tuning parameters for each model\n",
    "- visualizing ROC-AUC, feature importance (for interpretable models - logistic regression & random forest)"
   ]
  },
  {
   "cell_type": "markdown",
   "metadata": {},
   "source": [
    "### Logistic Regression\n",
    "Two grid searches were done -- one with l1 and l2 as penalty for the lbfgs solver, and the other with just l2, and the other solvers, since the other solvers only take l2 as the penalty."
   ]
  },
  {
   "cell_type": "code",
   "execution_count": 315,
   "metadata": {},
   "outputs": [
    {
     "name": "stdout",
     "output_type": "stream",
     "text": [
      "Fitting 5 folds for each of 200 candidates, totalling 1000 fits\n"
     ]
    },
    {
     "name": "stderr",
     "output_type": "stream",
     "text": [
      "[Parallel(n_jobs=-1)]: Using backend LokyBackend with 4 concurrent workers.\n",
      "[Parallel(n_jobs=-1)]: Done  50 tasks      | elapsed:    6.4s\n",
      "[Parallel(n_jobs=-1)]: Done 1000 out of 1000 | elapsed:   18.1s finished\n"
     ]
    }
   ],
   "source": [
    "from sklearn.model_selection import GridSearchCV\n",
    "\n",
    "# use scaled data for interpretability\n",
    "# have random state for reproducability\n",
    "X_train, X_test, y_train, y_test = train_test_split(X_scaled, y, \n",
    "                                                    test_size=0.2, \n",
    "                                                    random_state=42)\n",
    "\n",
    "# Create param grid\n",
    "param_grid = [\n",
    "    {'penalty' : ['l1', 'l2'],\n",
    "    'C' : np.logspace(-4, 4, 20),\n",
    "    'solver' : ['liblinear'],\n",
    "    'max_iter': [200, 500, 800, 1200, 1600]}\n",
    "]\n",
    "\n",
    "# Create grid search object\n",
    "clf = GridSearchCV(LogisticRegression(), param_grid = param_grid, cv = 5, verbose=True, \n",
    "                   n_jobs=-1)\n",
    "\n",
    "# Fit on data\n",
    "best_clf = clf.fit(X_train, y_train)"
   ]
  },
  {
   "cell_type": "code",
   "execution_count": 316,
   "metadata": {},
   "outputs": [
    {
     "name": "stdout",
     "output_type": "stream",
     "text": [
      "classification report: \n",
      "\n",
      "              precision    recall  f1-score   support\n",
      "\n",
      "           0       0.81      0.79      0.80       215\n",
      "           1       0.79      0.80      0.80       210\n",
      "\n",
      "   micro avg       0.80      0.80      0.80       425\n",
      "   macro avg       0.80      0.80      0.80       425\n",
      "weighted avg       0.80      0.80      0.80       425\n",
      "\n",
      "ROC AUC: 0.7977297895902546\n",
      "Accuracy score: 0.7976470588235294\n",
      "None\n",
      "{'C': 0.615848211066026, 'max_iter': 200, 'penalty': 'l2', 'solver': 'liblinear'}\n",
      "Confusion matrix, without normalization\n",
      "[[170  45]\n",
      " [ 41 169]]\n",
      "Normalized confusion matrix\n",
      "[[0.79069767 0.20930233]\n",
      " [0.1952381  0.8047619 ]]\n"
     ]
    },
    {
     "data": {
      "image/png": "[encoded data removed]",
      "text/plain": [
       "<Figure size 432x288 with 2 Axes>"
      ]
     },
     "metadata": {
      "needs_background": "light"
     },
     "output_type": "display_data"
    },
    {
     "data": {
      "image/png": "[encoded data removed]",
      "text/plain": [
       "<Figure size 432x288 with 2 Axes>"
      ]
     },
     "metadata": {
      "needs_background": "light"
     },
     "output_type": "display_data"
    }
   ],
   "source": [
    "y_pred = best_clf.predict(X_test)\n",
    "print(evaluation(y_test, y_pred))\n",
    "print(clf.best_params_)\n",
    "plt_cm()"
   ]
  },
  {
   "cell_type": "code",
   "execution_count": 138,
   "metadata": {
    "scrolled": true
   },
   "outputs": [
    {
     "name": "stdout",
     "output_type": "stream",
     "text": [
      "Fitting 5 folds for each of 500 candidates, totalling 2500 fits\n"
     ]
    },
    {
     "name": "stderr",
     "output_type": "stream",
     "text": [
      "[Parallel(n_jobs=-1)]: Using backend LokyBackend with 4 concurrent workers.\n",
      "[Parallel(n_jobs=-1)]: Done 348 tasks      | elapsed:    1.6s\n",
      "[Parallel(n_jobs=-1)]: Done 1465 tasks      | elapsed:   22.9s\n",
      "[Parallel(n_jobs=-1)]: Done 1925 tasks      | elapsed:   57.3s\n",
      "[Parallel(n_jobs=-1)]: Done 2353 tasks      | elapsed:  1.7min\n",
      "[Parallel(n_jobs=-1)]: Done 2493 out of 2500 | elapsed:  1.9min remaining:    0.3s\n"
     ]
    },
    {
     "name": "stdout",
     "output_type": "stream",
     "text": [
      "classification report: \n",
      "\n",
      "              precision    recall  f1-score   support\n",
      "\n",
      "           0       0.81      0.79      0.80       215\n",
      "           1       0.79      0.80      0.80       210\n",
      "\n",
      "   micro avg       0.80      0.80      0.80       425\n",
      "   macro avg       0.80      0.80      0.80       425\n",
      "weighted avg       0.80      0.80      0.80       425\n",
      "\n",
      "ROC AUC: 0.7977297895902546\n",
      "Accuracy score: 0.7976470588235294\n",
      "None\n",
      "{'C': 4.281332398719396, 'max_iter': 200, 'penalty': 'l2', 'solver': 'sag'}\n"
     ]
    },
    {
     "name": "stderr",
     "output_type": "stream",
     "text": [
      "[Parallel(n_jobs=-1)]: Done 2500 out of 2500 | elapsed:  1.9min finished\n",
      "/Users/hannah/anaconda3/lib/python3.7/site-packages/sklearn/linear_model/sag.py:334: ConvergenceWarning: The max_iter was reached which means the coef_ did not converge\n",
      "  \"the coef_ did not converge\", ConvergenceWarning)\n"
     ]
    }
   ],
   "source": [
    "# use scaled data for interpretability\n",
    "# have random state for reproducability\n",
    "X_train, X_test, y_train, y_test = train_test_split(X_scaled, y, \n",
    "                                                    test_size=0.2, \n",
    "                                                    random_state=42)\n",
    "\n",
    "# Create param grid.\n",
    "param_grid = [\n",
    "    {'penalty' : ['l2'],\n",
    "    'C' : np.logspace(-4, 4, 20),\n",
    "    'solver' : ['newton-cg', 'lbfgs', 'liblinear', 'sag', 'saga'],\n",
    "    'max_iter': [200, 500, 800, 1200, 1600]}\n",
    "]\n",
    "\n",
    "# Create grid search object\n",
    "clf = GridSearchCV(LogisticRegression(), param_grid = param_grid, cv = 5, verbose=True, \n",
    "                   n_jobs=-1)\n",
    "\n",
    "# Fit on data\n",
    "best_clf = clf.fit(X_train, y_train)\n",
    "y_pred = best_clf.predict(X_test)\n",
    "print(evaluation(y_test, y_pred))\n",
    "print(clf.best_params_)"
   ]
  },
  {
   "cell_type": "markdown",
   "metadata": {},
   "source": [
    "It makes some sense that the maximum iterations that winds up with the best results is 200, since more than that may overfit to the training data. So we'll keep max_iter=200."
   ]
  },
  {
   "cell_type": "code",
   "execution_count": 140,
   "metadata": {},
   "outputs": [
    {
     "name": "stdout",
     "output_type": "stream",
     "text": [
      "Fitting 5 folds for each of 100 candidates, totalling 500 fits\n"
     ]
    },
    {
     "name": "stderr",
     "output_type": "stream",
     "text": [
      "[Parallel(n_jobs=-1)]: Using backend LokyBackend with 4 concurrent workers.\n",
      "[Parallel(n_jobs=-1)]: Done 416 tasks      | elapsed:    4.3s\n"
     ]
    },
    {
     "name": "stdout",
     "output_type": "stream",
     "text": [
      "classification report: \n",
      "\n",
      "              precision    recall  f1-score   support\n",
      "\n",
      "           0       0.81      0.79      0.80       215\n",
      "           1       0.79      0.81      0.80       210\n",
      "\n",
      "   micro avg       0.80      0.80      0.80       425\n",
      "   macro avg       0.80      0.80      0.80       425\n",
      "weighted avg       0.80      0.80      0.80       425\n",
      "\n",
      "ROC AUC: 0.800110741971207\n",
      "Accuracy score: 0.8\n",
      "None\n",
      "{'C': 1438.44988828766, 'penalty': 'l2', 'solver': 'saga'}\n"
     ]
    },
    {
     "name": "stderr",
     "output_type": "stream",
     "text": [
      "[Parallel(n_jobs=-1)]: Done 500 out of 500 | elapsed:    5.5s finished\n",
      "/Users/hannah/anaconda3/lib/python3.7/site-packages/sklearn/linear_model/sag.py:334: ConvergenceWarning: The max_iter was reached which means the coef_ did not converge\n",
      "  \"the coef_ did not converge\", ConvergenceWarning)\n"
     ]
    }
   ],
   "source": [
    "# use scaled data for interpretability\n",
    "# have random state for reproducability\n",
    "X_train, X_test, y_train, y_test = train_test_split(X_scaled, y, \n",
    "                                                    test_size=0.2, \n",
    "                                                    random_state=42)\n",
    "\n",
    "# Create param grid.\n",
    "param_grid = [\n",
    "    {'penalty' : ['l2'],\n",
    "    'C' : np.logspace(-4, 4, 20),\n",
    "    'solver' : ['newton-cg', 'lbfgs', 'liblinear', 'sag', 'saga']}\n",
    "]\n",
    "\n",
    "# Create grid search object\n",
    "clf = GridSearchCV(LogisticRegression(), param_grid = param_grid, cv = 5, verbose=True, \n",
    "                   n_jobs=-1)\n",
    "\n",
    "# Fit on data\n",
    "best_clf = clf.fit(X_train, y_train)\n",
    "y_pred = best_clf.predict(X_test)\n",
    "print(evaluation(y_test, y_pred))\n",
    "print(clf.best_params_)"
   ]
  },
  {
   "cell_type": "markdown",
   "metadata": {},
   "source": [
    "However, because it doesn't converge, you get different values for C every time, so it looks like we should stick with `{'C': 0.615848211066026, 'max_iter': 200, 'penalty': 'l2', 'solver': 'liblinear'}` as the parameters for the best-tuned Logistic Regression model."
   ]
  },
  {
   "cell_type": "markdown",
   "metadata": {},
   "source": [
    "### KNN"
   ]
  },
  {
   "cell_type": "code",
   "execution_count": 342,
   "metadata": {},
   "outputs": [
    {
     "name": "stdout",
     "output_type": "stream",
     "text": [
      "Fitting 5 folds for each of 90 candidates, totalling 450 fits\n"
     ]
    },
    {
     "name": "stderr",
     "output_type": "stream",
     "text": [
      "[Parallel(n_jobs=-1)]: Using backend LokyBackend with 4 concurrent workers.\n",
      "[Parallel(n_jobs=-1)]: Done  42 tasks      | elapsed:    7.3s\n",
      "[Parallel(n_jobs=-1)]: Done 192 tasks      | elapsed:   14.8s\n",
      "[Parallel(n_jobs=-1)]: Done 442 tasks      | elapsed:   28.0s\n",
      "[Parallel(n_jobs=-1)]: Done 450 out of 450 | elapsed:   28.6s finished\n"
     ]
    },
    {
     "name": "stdout",
     "output_type": "stream",
     "text": [
      "classification report: \n",
      "\n",
      "              precision    recall  f1-score   support\n",
      "\n",
      "           0       0.76      0.77      0.77       215\n",
      "           1       0.76      0.76      0.76       210\n",
      "\n",
      "   micro avg       0.76      0.76      0.76       425\n",
      "   macro avg       0.76      0.76      0.76       425\n",
      "weighted avg       0.76      0.76      0.76       425\n",
      "\n",
      "ROC AUC: 0.7646179401993355\n",
      "Accuracy score: 0.7647058823529411\n",
      "None\n",
      "{'n_neighbors': 9, 'p': 2, 'weights': 'uniform'}\n"
     ]
    },
    {
     "data": {
      "image/png": "[encoded data removed]",
      "text/plain": [
       "<Figure size 432x288 with 1 Axes>"
      ]
     },
     "metadata": {
      "needs_background": "light"
     },
     "output_type": "display_data"
    },
    {
     "name": "stdout",
     "output_type": "stream",
     "text": [
      "Confusion matrix, without normalization\n",
      "[[166  49]\n",
      " [ 51 159]]\n",
      "Normalized confusion matrix\n",
      "[[0.77209302 0.22790698]\n",
      " [0.24285714 0.75714286]]\n"
     ]
    },
    {
     "data": {
      "image/png": "[encoded data removed]",
      "text/plain": [
       "<Figure size 432x288 with 2 Axes>"
      ]
     },
     "metadata": {
      "needs_background": "light"
     },
     "output_type": "display_data"
    },
    {
     "data": {
      "image/png": "[encoded data removed]",
      "text/plain": [
       "<Figure size 432x288 with 2 Axes>"
      ]
     },
     "metadata": {
      "needs_background": "light"
     },
     "output_type": "display_data"
    }
   ],
   "source": [
    "# use scaled data for interpretability\n",
    "# have random state for reproducability\n",
    "X_train, X_test, y_train, y_test = train_test_split(X, y, \n",
    "                                                    test_size=0.2, \n",
    "                                                    random_state=42)\n",
    "\n",
    "# Create param grid.\n",
    "param_grid = [\n",
    "    {'n_neighbors': list(range(1, 30, 2)),\n",
    "    'weights': ['uniform', 'distance'],\n",
    "    'p': [1, 2, 3]}\n",
    "]\n",
    "\n",
    "# Create grid search object\n",
    "clf = GridSearchCV(KNeighborsClassifier() , param_grid = param_grid, cv = 5, verbose=True, \n",
    "                   n_jobs=-1)\n",
    "\n",
    "# Fit on data\n",
    "best_clf = clf.fit(X_train, y_train)\n",
    "y_pred = best_clf.predict(X_test)\n",
    "print(evaluation(y_test, y_pred))\n",
    "print(clf.best_params_)\n",
    "plot_roc_curve(y_test, y_pred)\n",
    "plt_cm()"
   ]
  },
  {
   "cell_type": "markdown",
   "metadata": {},
   "source": [
    "### SVM"
   ]
  },
  {
   "cell_type": "code",
   "execution_count": 163,
   "metadata": {},
   "outputs": [
    {
     "name": "stdout",
     "output_type": "stream",
     "text": [
      "Fitting 5 folds for each of 32 candidates, totalling 160 fits\n"
     ]
    },
    {
     "name": "stderr",
     "output_type": "stream",
     "text": [
      "[Parallel(n_jobs=-1)]: Using backend LokyBackend with 4 concurrent workers.\n",
      "[Parallel(n_jobs=-1)]: Done  42 tasks      | elapsed:    5.7s\n",
      "[Parallel(n_jobs=-1)]: Done 160 out of 160 | elapsed:  7.4min finished\n"
     ]
    },
    {
     "name": "stdout",
     "output_type": "stream",
     "text": [
      "classification report: \n",
      "\n",
      "              precision    recall  f1-score   support\n",
      "\n",
      "           0       0.81      0.85      0.83       215\n",
      "           1       0.84      0.80      0.82       210\n",
      "\n",
      "   micro avg       0.82      0.82      0.82       425\n",
      "   macro avg       0.82      0.82      0.82       425\n",
      "weighted avg       0.82      0.82      0.82       425\n",
      "\n",
      "ROC AUC: 0.8232004429678847\n",
      "Accuracy score: 0.8235294117647058\n",
      "None\n",
      "{'C': 1000, 'gamma': 0.001, 'kernel': 'rbf'}\n"
     ]
    }
   ],
   "source": [
    "# need to use scaled data for SVMs\n",
    "# have random state for reproducability\n",
    "X_train, X_test, y_train, y_test = train_test_split(X_scaled, y, \n",
    "                                                    test_size=0.2, \n",
    "                                                    random_state=42)\n",
    "\n",
    "# Create param grid.\n",
    "param_grid = {'C':[1,10,100,1000],\n",
    "              'gamma':[1,0.1,0.001,0.0001], \n",
    "              'kernel':['linear','rbf'] \n",
    "             }\n",
    "\n",
    "\n",
    "# Create grid search object\n",
    "clf = GridSearchCV(SVC(), param_grid = param_grid, cv = 5, verbose=True, \n",
    "                   n_jobs=-1)\n",
    "\n",
    "# Fit on data\n",
    "best_clf = clf.fit(X_train, y_train)\n",
    "y_pred = best_clf.predict(X_test)\n",
    "print(evaluation(y_test, y_pred))\n",
    "print(clf.best_params_)"
   ]
  },
  {
   "cell_type": "code",
   "execution_count": 172,
   "metadata": {},
   "outputs": [
    {
     "name": "stdout",
     "output_type": "stream",
     "text": [
      "Fitting 5 folds for each of 12 candidates, totalling 60 fits\n"
     ]
    },
    {
     "name": "stderr",
     "output_type": "stream",
     "text": [
      "[Parallel(n_jobs=-1)]: Using backend LokyBackend with 4 concurrent workers.\n",
      "[Parallel(n_jobs=-1)]: Done  42 tasks      | elapsed:  8.4min\n",
      "[Parallel(n_jobs=-1)]: Done  60 out of  60 | elapsed: 11.2min finished\n"
     ]
    },
    {
     "name": "stdout",
     "output_type": "stream",
     "text": [
      "classification report: \n",
      "\n",
      "              precision    recall  f1-score   support\n",
      "\n",
      "           0       0.81      0.85      0.83       215\n",
      "           1       0.84      0.80      0.82       210\n",
      "\n",
      "   micro avg       0.82      0.82      0.82       425\n",
      "   macro avg       0.82      0.82      0.82       425\n",
      "weighted avg       0.82      0.82      0.82       425\n",
      "\n",
      "ROC AUC: 0.8232004429678847\n",
      "Accuracy score: 0.8235294117647058\n",
      "None\n",
      "{'C': 1000, 'gamma': 0.001, 'kernel': 'rbf'}\n"
     ]
    }
   ],
   "source": [
    "# need to use scaled data for SVMs\n",
    "# have random state for reproducability\n",
    "X_train, X_test, y_train, y_test = train_test_split(X_scaled, y, \n",
    "                                                    test_size=0.2, \n",
    "                                                    random_state=42)\n",
    "\n",
    "# Create param grid.\n",
    "param_grid = {'C':[1000, 1500],\n",
    "              'gamma':[1,0.1,0.001], \n",
    "              'kernel':['linear','rbf'] \n",
    "             }\n",
    "\n",
    "\n",
    "# Create grid search object\n",
    "clf = GridSearchCV(SVC(), param_grid = param_grid, cv = 5, verbose=True, \n",
    "                   n_jobs=-1)\n",
    "\n",
    "# Fit on data\n",
    "best_clf = clf.fit(X_train, y_train)\n",
    "y_pred = best_clf.predict(X_test)\n",
    "print(evaluation(y_test, y_pred))\n",
    "print(clf.best_params_)"
   ]
  },
  {
   "cell_type": "code",
   "execution_count": 195,
   "metadata": {
    "scrolled": true
   },
   "outputs": [
    {
     "name": "stdout",
     "output_type": "stream",
     "text": [
      "Fitting 5 folds for each of 18 candidates, totalling 90 fits\n"
     ]
    },
    {
     "name": "stderr",
     "output_type": "stream",
     "text": [
      "[Parallel(n_jobs=-1)]: Using backend LokyBackend with 4 concurrent workers.\n",
      "[Parallel(n_jobs=-1)]: Done  42 tasks      | elapsed:    6.4s\n",
      "[Parallel(n_jobs=-1)]: Done  90 out of  90 | elapsed:    9.1s finished\n"
     ]
    },
    {
     "name": "stdout",
     "output_type": "stream",
     "text": [
      "classification report: \n",
      "\n",
      "              precision    recall  f1-score   support\n",
      "\n",
      "           0       0.81      0.85      0.83       215\n",
      "           1       0.84      0.80      0.82       210\n",
      "\n",
      "   micro avg       0.82      0.82      0.82       425\n",
      "   macro avg       0.82      0.82      0.82       425\n",
      "weighted avg       0.82      0.82      0.82       425\n",
      "\n",
      "ROC AUC: 0.8232004429678847\n",
      "Accuracy score: 0.8235294117647058\n",
      "None\n",
      "{'C': 1000, 'gamma': 0.001, 'kernel': 'rbf'}\n"
     ]
    }
   ],
   "source": [
    "# need to use scaled data for SVMs\n",
    "# have random state for reproducability\n",
    "X_train, X_test, y_train, y_test = train_test_split(X_scaled, y, \n",
    "                                                    test_size=0.2, \n",
    "                                                    random_state=42)\n",
    "\n",
    "# Create param grid.\n",
    "param_grid = {'C':[1000, 1500],\n",
    "              'gamma':[1,0.1,0.001], \n",
    "              'kernel':['rbf', 'sigmoid', 'poly'] \n",
    "             }\n",
    "\n",
    "\n",
    "# Create grid search object\n",
    "clf = GridSearchCV(SVC(), param_grid = param_grid, cv = 5, verbose=True, \n",
    "                   n_jobs=-1)\n",
    "\n",
    "# Fit on data\n",
    "best_clf = clf.fit(X_train, y_train)\n",
    "y_pred = best_clf.predict(X_test)\n",
    "print(evaluation(y_test, y_pred))\n",
    "print(clf.best_params_)"
   ]
  },
  {
   "cell_type": "code",
   "execution_count": 346,
   "metadata": {},
   "outputs": [
    {
     "name": "stdout",
     "output_type": "stream",
     "text": [
      "classification report: \n",
      "\n",
      "              precision    recall  f1-score   support\n",
      "\n",
      "           0       0.81      0.85      0.83       215\n",
      "           1       0.84      0.80      0.82       210\n",
      "\n",
      "   micro avg       0.82      0.82      0.82       425\n",
      "   macro avg       0.82      0.82      0.82       425\n",
      "weighted avg       0.82      0.82      0.82       425\n",
      "\n",
      "ROC AUC: 0.8232004429678847\n",
      "Accuracy score: 0.8235294117647058\n",
      "None\n"
     ]
    },
    {
     "data": {
      "image/png": "[encoded data removed]",
      "text/plain": [
       "<Figure size 432x288 with 1 Axes>"
      ]
     },
     "metadata": {
      "needs_background": "light"
     },
     "output_type": "display_data"
    },
    {
     "name": "stdout",
     "output_type": "stream",
     "text": [
      "Confusion matrix, without normalization\n",
      "[[183  32]\n",
      " [ 43 167]]\n",
      "Normalized confusion matrix\n",
      "[[0.85116279 0.14883721]\n",
      " [0.2047619  0.7952381 ]]\n"
     ]
    },
    {
     "data": {
      "image/png": "[encoded data removed]",
      "text/plain": [
       "<Figure size 432x288 with 2 Axes>"
      ]
     },
     "metadata": {
      "needs_background": "light"
     },
     "output_type": "display_data"
    },
    {
     "data": {
      "image/png": "[encoded data removed]",
      "text/plain": [
       "<Figure size 432x288 with 2 Axes>"
      ]
     },
     "metadata": {
      "needs_background": "light"
     },
     "output_type": "display_data"
    }
   ],
   "source": [
    "X_train, X_test, y_train, y_test = train_test_split(X_scaled, y, \n",
    "                                                    test_size=0.2, \n",
    "                                                    random_state=42)\n",
    "svc = SVC(C=1000, gamma=0.001, kernel='rbf')\n",
    "svc.fit(X_train, y_train)\n",
    "y_pred = svc.predict(X_test)\n",
    "print(evaluation(y_test, y_pred))\n",
    "plot_roc_curve(y_test, y_pred)\n",
    "plt_cm()"
   ]
  },
  {
   "cell_type": "markdown",
   "metadata": {},
   "source": [
    "### Random Forest"
   ]
  },
  {
   "cell_type": "code",
   "execution_count": 317,
   "metadata": {},
   "outputs": [],
   "source": [
    "# using non-scaled data\n",
    "X_train, X_test, y_train, y_test = train_test_split(X, y, \n",
    "                                                    test_size=0.2, \n",
    "                                                    random_state=42)"
   ]
  },
  {
   "cell_type": "code",
   "execution_count": 171,
   "metadata": {},
   "outputs": [
    {
     "name": "stdout",
     "output_type": "stream",
     "text": [
      "Fitting 5 folds for each of 600 candidates, totalling 3000 fits\n"
     ]
    },
    {
     "name": "stderr",
     "output_type": "stream",
     "text": [
      "[Parallel(n_jobs=-1)]: Using backend LokyBackend with 4 concurrent workers.\n",
      "[Parallel(n_jobs=-1)]: Done  42 tasks      | elapsed:   13.8s\n",
      "[Parallel(n_jobs=-1)]: Done 192 tasks      | elapsed:   53.5s\n",
      "[Parallel(n_jobs=-1)]: Done 442 tasks      | elapsed:  2.0min\n",
      "[Parallel(n_jobs=-1)]: Done 792 tasks      | elapsed:  4.1min\n",
      "[Parallel(n_jobs=-1)]: Done 1242 tasks      | elapsed:  6.6min\n",
      "[Parallel(n_jobs=-1)]: Done 1792 tasks      | elapsed:  9.4min\n",
      "[Parallel(n_jobs=-1)]: Done 2442 tasks      | elapsed: 13.3min\n",
      "[Parallel(n_jobs=-1)]: Done 3000 out of 3000 | elapsed: 18.1min finished\n"
     ]
    },
    {
     "name": "stdout",
     "output_type": "stream",
     "text": [
      "classification report: \n",
      "\n",
      "              precision    recall  f1-score   support\n",
      "\n",
      "           0       0.83      0.81      0.82       215\n",
      "           1       0.81      0.83      0.82       210\n",
      "\n",
      "   micro avg       0.82      0.82      0.82       425\n",
      "   macro avg       0.82      0.82      0.82       425\n",
      "weighted avg       0.82      0.82      0.82       425\n",
      "\n",
      "ROC AUC: 0.8213178294573644\n",
      "Accuracy score: 0.8211764705882353\n",
      "None\n",
      "{'max_depth': 10, 'max_features': 16, 'min_samples_leaf': 10, 'min_samples_split': 10, 'n_estimators': 100}\n"
     ]
    }
   ],
   "source": [
    "# Create param grid.\n",
    "param_grid = {'max_depth': [1, 10],\n",
    "            'max_features': [1, 2, 4, 16],\n",
    "            'min_samples_leaf': [2, 10, 100, 500, 1000],\n",
    "            'min_samples_split': [2, 10, 100, 500, 1000],\n",
    "            'n_estimators': [100, 500, 1000]\n",
    "             }\n",
    "\n",
    "\n",
    "# Create grid search object\n",
    "clf = GridSearchCV(RandomForestClassifier(), param_grid = param_grid, cv = 5, verbose=True, \n",
    "                   n_jobs=-1)\n",
    "\n",
    "# Fit on data\n",
    "best_clf = clf.fit(X_train, y_train)\n",
    "y_pred = best_clf.predict(X_test)\n",
    "print(evaluation(y_test, y_pred))\n",
    "print(clf.best_params_)"
   ]
  },
  {
   "cell_type": "code",
   "execution_count": 318,
   "metadata": {},
   "outputs": [
    {
     "name": "stdout",
     "output_type": "stream",
     "text": [
      "classification report: \n",
      "\n",
      "              precision    recall  f1-score   support\n",
      "\n",
      "           0       0.82      0.82      0.82       215\n",
      "           1       0.82      0.82      0.82       210\n",
      "\n",
      "   micro avg       0.82      0.82      0.82       425\n",
      "   macro avg       0.82      0.82      0.82       425\n",
      "weighted avg       0.82      0.82      0.82       425\n",
      "\n",
      "ROC AUC: 0.8211517165005537\n",
      "Accuracy score: 0.8211764705882353\n"
     ]
    },
    {
     "data": {
      "image/png": "[encoded data removed]",
      "text/plain": [
       "<Figure size 432x288 with 1 Axes>"
      ]
     },
     "metadata": {
      "needs_background": "light"
     },
     "output_type": "display_data"
    },
    {
     "name": "stdout",
     "output_type": "stream",
     "text": [
      "Confusion matrix, without normalization\n",
      "[[177  38]\n",
      " [ 38 172]]\n",
      "Normalized confusion matrix\n",
      "[[0.82325581 0.17674419]\n",
      " [0.18095238 0.81904762]]\n"
     ]
    },
    {
     "data": {
      "image/png": "[encoded data removed]",
      "text/plain": [
       "<Figure size 432x288 with 2 Axes>"
      ]
     },
     "metadata": {
      "needs_background": "light"
     },
     "output_type": "display_data"
    },
    {
     "data": {
      "image/png": "[encoded data removed]",
      "text/plain": [
       "<Figure size 432x288 with 2 Axes>"
      ]
     },
     "metadata": {
      "needs_background": "light"
     },
     "output_type": "display_data"
    }
   ],
   "source": [
    "rfc = RandomForestClassifier(max_depth=10, max_features=15, \n",
    "                             min_samples_leaf=10, min_samples_split=10,\n",
    "                            n_estimators=100)\n",
    "rfc.fit(X_train, y_train)\n",
    "y_pred = rfc.predict(X_test)\n",
    "evaluation(y_test, y_pred)\n",
    "plot_roc_curve(y_test, y_pred)\n",
    "plt_cm()"
   ]
  },
  {
   "cell_type": "markdown",
   "metadata": {},
   "source": [
    "### XGBoost"
   ]
  },
  {
   "cell_type": "code",
   "execution_count": 175,
   "metadata": {},
   "outputs": [
    {
     "name": "stdout",
     "output_type": "stream",
     "text": [
      "Fitting 5 folds for each of 36 candidates, totalling 180 fits\n"
     ]
    },
    {
     "name": "stderr",
     "output_type": "stream",
     "text": [
      "[Parallel(n_jobs=-1)]: Using backend LokyBackend with 4 concurrent workers.\n",
      "[Parallel(n_jobs=-1)]: Done  42 tasks      | elapsed:   27.5s\n",
      "[Parallel(n_jobs=-1)]: Done 180 out of 180 | elapsed:  2.0min finished\n"
     ]
    },
    {
     "name": "stdout",
     "output_type": "stream",
     "text": [
      "classification report: \n",
      "\n",
      "              precision    recall  f1-score   support\n",
      "\n",
      "           0       0.82      0.81      0.81       215\n",
      "           1       0.81      0.81      0.81       210\n",
      "\n",
      "   micro avg       0.81      0.81      0.81       425\n",
      "   macro avg       0.81      0.81      0.81       425\n",
      "weighted avg       0.81      0.81      0.81       425\n",
      "\n",
      "ROC AUC: 0.8117940199335548\n",
      "Accuracy score: 0.8117647058823529\n",
      "None\n",
      "{'learning_rate': 0.01, 'max_depth': 10, 'n_estimators': 100}\n"
     ]
    }
   ],
   "source": [
    "# using non-scaled data\n",
    "X_train, X_test, y_train, y_test = train_test_split(X, y, \n",
    "                                                    test_size=0.2, \n",
    "                                                    random_state=42)\n",
    "\n",
    "# Create param grid.\n",
    "param_grid = {'max_depth': [3, 10, 100], \n",
    "              'learning_rate': [.01, .1, 1, 10], \n",
    "              'n_estimators': [10, 100, 1000]\n",
    "             }\n",
    "\n",
    "\n",
    "# Create grid search object\n",
    "clf = GridSearchCV(xgb.XGBRFClassifier(), param_grid = param_grid, cv = 5, verbose=True, \n",
    "                   n_jobs=-1)\n",
    "\n",
    "# Fit on data\n",
    "best_clf = clf.fit(X_train, y_train)\n",
    "y_pred = best_clf.predict(X_test)\n",
    "print(evaluation(y_test, y_pred))\n",
    "print(clf.best_params_)"
   ]
  },
  {
   "cell_type": "code",
   "execution_count": 319,
   "metadata": {
    "scrolled": false
   },
   "outputs": [
    {
     "name": "stdout",
     "output_type": "stream",
     "text": [
      "Fitting 5 folds for each of 48 candidates, totalling 240 fits\n"
     ]
    },
    {
     "name": "stderr",
     "output_type": "stream",
     "text": [
      "[Parallel(n_jobs=-1)]: Using backend LokyBackend with 4 concurrent workers.\n",
      "[Parallel(n_jobs=-1)]: Done  42 tasks      | elapsed:   36.7s\n",
      "[Parallel(n_jobs=-1)]: Done 192 tasks      | elapsed:  3.6min\n",
      "[Parallel(n_jobs=-1)]: Done 240 out of 240 | elapsed:  4.4min finished\n"
     ]
    },
    {
     "name": "stdout",
     "output_type": "stream",
     "text": [
      "classification report: \n",
      "\n",
      "              precision    recall  f1-score   support\n",
      "\n",
      "           0       0.84      0.83      0.83       215\n",
      "           1       0.83      0.83      0.83       210\n",
      "\n",
      "   micro avg       0.83      0.83      0.83       425\n",
      "   macro avg       0.83      0.83      0.83       425\n",
      "weighted avg       0.83      0.83      0.83       425\n",
      "\n",
      "ROC AUC: 0.8306201550387597\n",
      "Accuracy score: 0.8305882352941176\n",
      "None\n",
      "{'learning_rate': 0.1, 'max_depth': 20, 'n_estimators': 100}\n"
     ]
    }
   ],
   "source": [
    "# using non-scaled data\n",
    "X_train, X_test, y_train, y_test = train_test_split(X, y, \n",
    "                                                    test_size=0.2, \n",
    "                                                    random_state=42)\n",
    "\n",
    "# Create param grid.\n",
    "param_grid = {'max_depth': [5, 10, 20, 50], \n",
    "              'learning_rate': [.001, .01, .1], \n",
    "              'n_estimators': [10, 100, 200, 500]\n",
    "             }\n",
    "\n",
    "\n",
    "# Create grid search object\n",
    "clf = GridSearchCV(xgb.XGBClassifier(), param_grid = param_grid, cv = 5, verbose=True, \n",
    "                   n_jobs=-1)\n",
    "\n",
    "# Fit on data\n",
    "best_clf = clf.fit(X_train, y_train)\n",
    "y_pred = best_clf.predict(X_test)\n",
    "print(evaluation(y_test, y_pred))\n",
    "print(clf.best_params_)"
   ]
  },
  {
   "cell_type": "code",
   "execution_count": 326,
   "metadata": {},
   "outputs": [
    {
     "name": "stdout",
     "output_type": "stream",
     "text": [
      "classification report: \n",
      "\n",
      "              precision    recall  f1-score   support\n",
      "\n",
      "           0       0.84      0.83      0.83       215\n",
      "           1       0.83      0.83      0.83       210\n",
      "\n",
      "   micro avg       0.83      0.83      0.83       425\n",
      "   macro avg       0.83      0.83      0.83       425\n",
      "weighted avg       0.83      0.83      0.83       425\n",
      "\n",
      "ROC AUC: 0.8306201550387597\n",
      "Accuracy score: 0.8305882352941176\n"
     ]
    },
    {
     "data": {
      "image/png": "[encoded data removed]",
      "text/plain": [
       "<Figure size 432x288 with 1 Axes>"
      ]
     },
     "metadata": {
      "needs_background": "light"
     },
     "output_type": "display_data"
    },
    {
     "name": "stdout",
     "output_type": "stream",
     "text": [
      "Confusion matrix, without normalization\n",
      "[[178  37]\n",
      " [ 35 175]]\n",
      "Normalized confusion matrix\n",
      "[[0.82790698 0.17209302]\n",
      " [0.16666667 0.83333333]]\n"
     ]
    },
    {
     "data": {
      "image/png": "[encoded data removed]",
      "text/plain": [
       "<Figure size 432x288 with 2 Axes>"
      ]
     },
     "metadata": {
      "needs_background": "light"
     },
     "output_type": "display_data"
    },
    {
     "data": {
      "image/png": "[encoded data removed]",
      "text/plain": [
       "<Figure size 432x288 with 2 Axes>"
      ]
     },
     "metadata": {
      "needs_background": "light"
     },
     "output_type": "display_data"
    }
   ],
   "source": [
    "from xgboost import XGBClassifier\n",
    "xgbc = XGBClassifier(learning_rate=0.1, max_depth=20, n_estimators=100)\n",
    "xgbc.fit(X_train, y_train)\n",
    "y_pred = xgbc.predict(X_test)\n",
    "evaluation(y_test, y_pred)\n",
    "plot_roc_curve(y_test, y_pred)\n",
    "plt.\n",
    "plt_cm()\n"
   ]
  },
  {
   "cell_type": "markdown",
   "metadata": {},
   "source": [
    "### Results:\n",
    "It comes down to the SVM, Random Forest, and XGBoost models. Given that the blackbox models only perform _slightly_ better than Random Forest, I'll choose the simpler model and dig into what that tells us. "
   ]
  },
  {
   "cell_type": "markdown",
   "metadata": {},
   "source": [
    "## Feature Selection -- Due to lack of time, results were not utilized.\n",
    "- PCA\n",
    "- Regularization\n",
    "- New visuals if better models are found"
   ]
  },
  {
   "cell_type": "markdown",
   "metadata": {},
   "source": [
    "### PCA"
   ]
  },
  {
   "cell_type": "code",
   "execution_count": 234,
   "metadata": {},
   "outputs": [
    {
     "data": {
      "text/plain": [
       "PCA(copy=True, iterated_power='auto', n_components=None, random_state=None,\n",
       "  svd_solver='auto', tol=0.0, whiten=False)"
      ]
     },
     "execution_count": 234,
     "metadata": {},
     "output_type": "execute_result"
    }
   ],
   "source": [
    "from sklearn.decomposition import PCA\n",
    "\n",
    "pca = PCA()\n",
    "\n",
    "# using scaled data, since we're looking at variance\n",
    "pca.fit(X_scaled)"
   ]
  },
  {
   "cell_type": "code",
   "execution_count": 235,
   "metadata": {},
   "outputs": [
    {
     "data": {
      "text/plain": [
       "<matplotlib.axes._subplots.AxesSubplot at 0x1a20628198>"
      ]
     },
     "execution_count": 235,
     "metadata": {},
     "output_type": "execute_result"
    },
    {
     "data": {
      "image/png": "[encoded data removed]",
      "text/plain": [
       "<Figure size 432x288 with 1 Axes>"
      ]
     },
     "metadata": {
      "needs_background": "light"
     },
     "output_type": "display_data"
    }
   ],
   "source": [
    "sns.barplot(list(range(len(pca.components_))), pca.explained_variance_ratio_)"
   ]
  },
  {
   "cell_type": "code",
   "execution_count": 248,
   "metadata": {},
   "outputs": [
    {
     "data": {
      "text/plain": [
       "0.9893455522978218"
      ]
     },
     "execution_count": 248,
     "metadata": {},
     "output_type": "execute_result"
    }
   ],
   "source": [
    "sum(pca.explained_variance_ratio_[:20])"
   ]
  },
  {
   "cell_type": "markdown",
   "metadata": {},
   "source": [
    "This tells us that 99% of variance is explained by 20 components -- a 25-dimensional space can be represented by 20 components. "
   ]
  },
  {
   "cell_type": "code",
   "execution_count": 236,
   "metadata": {},
   "outputs": [
    {
     "data": {
      "text/plain": [
       "duration_ms                 0.883582\n",
       "no_segments                 0.872519\n",
       "no_sections                 0.868913\n",
       "no_unique_pitches           0.837870\n",
       "mean_pitch                  0.821977\n",
       "no_unique_timbres           0.780594\n",
       "sec_duration_range          0.779588\n",
       "seg_duration_range          0.779588\n",
       "sec_loudness_range          0.704651\n",
       "sec_time_signature_range    0.686624\n",
       "sec_key_range               0.670761\n",
       "sec_mode_range              0.516077\n",
       "sec_tempo_range             0.385387\n",
       "instrumentalness            0.088303\n",
       "acousticness                0.028456\n",
       "time_signature              0.024931\n",
       "loudness                    0.006720\n",
       "key                        -0.041003\n",
       "speechiness                -0.042603\n",
       "mode                       -0.111957\n",
       "energy                     -0.143969\n",
       "tempo                      -0.172547\n",
       "liveness                   -0.207697\n",
       "danceability               -0.528154\n",
       "valence                    -0.606147\n",
       "dtype: float64"
      ]
     },
     "metadata": {},
     "output_type": "display_data"
    },
    {
     "data": {
      "text/plain": [
       "energy                      0.866918\n",
       "loudness                    0.802998\n",
       "danceability                0.517252\n",
       "valence                     0.517092\n",
       "liveness                    0.319993\n",
       "mean_pitch                  0.305208\n",
       "tempo                       0.280282\n",
       "no_unique_pitches           0.275177\n",
       "speechiness                 0.211686\n",
       "no_segments                 0.177934\n",
       "time_signature              0.162144\n",
       "seg_duration_range          0.104110\n",
       "sec_duration_range          0.104110\n",
       "duration_ms                 0.099275\n",
       "no_sections                 0.085774\n",
       "instrumentalness            0.071710\n",
       "sec_mode_range              0.023991\n",
       "sec_key_range               0.018656\n",
       "sec_loudness_range          0.014123\n",
       "sec_tempo_range            -0.003442\n",
       "key                        -0.011142\n",
       "no_unique_timbres          -0.040307\n",
       "mode                       -0.067455\n",
       "sec_time_signature_range   -0.209469\n",
       "acousticness               -0.281093\n",
       "dtype: float64"
      ]
     },
     "metadata": {},
     "output_type": "display_data"
    },
    {
     "data": {
      "text/plain": [
       "speechiness                 0.392426\n",
       "sec_duration_range          0.282252\n",
       "seg_duration_range          0.282252\n",
       "mode                        0.228183\n",
       "sec_tempo_range             0.165802\n",
       "duration_ms                 0.151005\n",
       "no_segments                 0.127241\n",
       "liveness                    0.105022\n",
       "no_sections                 0.100021\n",
       "valence                     0.088976\n",
       "sec_time_signature_range    0.042557\n",
       "danceability               -0.018545\n",
       "tempo                      -0.023414\n",
       "sec_loudness_range         -0.045942\n",
       "energy                     -0.073220\n",
       "key                        -0.074895\n",
       "no_unique_timbres          -0.093231\n",
       "time_signature             -0.120206\n",
       "no_unique_pitches          -0.137761\n",
       "mean_pitch                 -0.145874\n",
       "loudness                   -0.191620\n",
       "sec_key_range              -0.275415\n",
       "sec_mode_range             -0.349484\n",
       "acousticness               -0.507193\n",
       "instrumentalness           -0.562783\n",
       "dtype: float64"
      ]
     },
     "metadata": {},
     "output_type": "display_data"
    },
    {
     "data": {
      "text/plain": [
       "sec_mode_range              0.364122\n",
       "liveness                    0.345121\n",
       "speechiness                 0.240142\n",
       "key                         0.172689\n",
       "sec_time_signature_range    0.167514\n",
       "sec_key_range               0.161733\n",
       "sec_tempo_range             0.156804\n",
       "energy                      0.103834\n",
       "mean_pitch                  0.055749\n",
       "no_unique_pitches           0.044051\n",
       "sec_loudness_range          0.043520\n",
       "loudness                   -0.020663\n",
       "instrumentalness           -0.088430\n",
       "sec_duration_range         -0.119287\n",
       "seg_duration_range         -0.119287\n",
       "no_unique_timbres          -0.132833\n",
       "tempo                      -0.142691\n",
       "no_sections                -0.182718\n",
       "duration_ms                -0.191651\n",
       "no_segments                -0.204262\n",
       "valence                    -0.208283\n",
       "time_signature             -0.211011\n",
       "danceability               -0.242302\n",
       "acousticness               -0.455685\n",
       "mode                       -0.554067\n",
       "dtype: float64"
      ]
     },
     "metadata": {},
     "output_type": "display_data"
    },
    {
     "data": {
      "text/plain": [
       "tempo                       0.478680\n",
       "danceability                0.290641\n",
       "speechiness                 0.265336\n",
       "sec_mode_range              0.260683\n",
       "no_unique_timbres           0.229190\n",
       "key                         0.222756\n",
       "sec_key_range               0.217776\n",
       "time_signature              0.134251\n",
       "acousticness                0.106517\n",
       "valence                     0.103229\n",
       "no_unique_pitches           0.086675\n",
       "mean_pitch                  0.076805\n",
       "no_sections                 0.041337\n",
       "no_segments                 0.034959\n",
       "duration_ms                -0.011729\n",
       "sec_loudness_range         -0.047817\n",
       "sec_time_signature_range   -0.048033\n",
       "sec_tempo_range            -0.092923\n",
       "mode                       -0.129990\n",
       "energy                     -0.170824\n",
       "seg_duration_range         -0.177815\n",
       "sec_duration_range         -0.177815\n",
       "loudness                   -0.196875\n",
       "liveness                   -0.242142\n",
       "instrumentalness           -0.532013\n",
       "dtype: float64"
      ]
     },
     "metadata": {},
     "output_type": "display_data"
    },
    {
     "data": {
      "text/plain": [
       "time_signature              0.523002\n",
       "speechiness                 0.517291\n",
       "liveness                    0.274055\n",
       "acousticness                0.217339\n",
       "sec_mode_range              0.137996\n",
       "no_unique_timbres           0.134791\n",
       "instrumentalness            0.103265\n",
       "seg_duration_range          0.065606\n",
       "sec_duration_range          0.065606\n",
       "danceability                0.045767\n",
       "mean_pitch                 -0.016815\n",
       "sec_key_range              -0.022383\n",
       "sec_time_signature_range   -0.023910\n",
       "energy                     -0.030211\n",
       "no_unique_pitches          -0.030216\n",
       "mode                       -0.044957\n",
       "duration_ms                -0.051848\n",
       "no_segments                -0.058228\n",
       "no_sections                -0.070457\n",
       "sec_loudness_range         -0.088494\n",
       "sec_tempo_range            -0.104812\n",
       "valence                    -0.112160\n",
       "loudness                   -0.132464\n",
       "tempo                      -0.178789\n",
       "key                        -0.485171\n",
       "dtype: float64"
      ]
     },
     "metadata": {},
     "output_type": "display_data"
    },
    {
     "data": {
      "text/plain": [
       "key                         0.564206\n",
       "time_signature              0.444674\n",
       "seg_duration_range          0.168746\n",
       "sec_duration_range          0.168746\n",
       "duration_ms                 0.117207\n",
       "no_segments                 0.104585\n",
       "valence                     0.087875\n",
       "no_sections                 0.077616\n",
       "danceability                0.074317\n",
       "acousticness                0.012408\n",
       "liveness                   -0.004306\n",
       "no_unique_timbres          -0.022436\n",
       "loudness                   -0.028788\n",
       "energy                     -0.043155\n",
       "instrumentalness           -0.050563\n",
       "sec_mode_range             -0.056720\n",
       "sec_loudness_range         -0.087774\n",
       "sec_key_range              -0.093054\n",
       "mean_pitch                 -0.123429\n",
       "no_unique_pitches          -0.124022\n",
       "speechiness                -0.132177\n",
       "sec_tempo_range            -0.150930\n",
       "sec_time_signature_range   -0.151110\n",
       "mode                       -0.383335\n",
       "tempo                      -0.383655\n",
       "dtype: float64"
      ]
     },
     "metadata": {},
     "output_type": "display_data"
    },
    {
     "data": {
      "text/plain": [
       "liveness                    0.411493\n",
       "key                         0.297958\n",
       "speechiness                 0.254731\n",
       "mode                        0.226548\n",
       "no_unique_timbres           0.175615\n",
       "no_sections                 0.163933\n",
       "acousticness                0.152718\n",
       "no_segments                 0.150972\n",
       "duration_ms                 0.142946\n",
       "sec_time_signature_range    0.130075\n",
       "instrumentalness            0.085148\n",
       "danceability                0.061456\n",
       "sec_key_range               0.049799\n",
       "mean_pitch                  0.017889\n",
       "no_unique_pitches           0.010308\n",
       "energy                     -0.005780\n",
       "valence                    -0.023908\n",
       "loudness                   -0.031921\n",
       "sec_mode_range             -0.073926\n",
       "seg_duration_range         -0.153453\n",
       "sec_duration_range         -0.153453\n",
       "sec_loudness_range         -0.161712\n",
       "tempo                      -0.189151\n",
       "time_signature             -0.379409\n",
       "sec_tempo_range            -0.456809\n",
       "dtype: float64"
      ]
     },
     "metadata": {},
     "output_type": "display_data"
    },
    {
     "data": {
      "text/plain": [
       "sec_tempo_range             0.540421\n",
       "speechiness                 0.413611\n",
       "key                         0.391064\n",
       "acousticness                0.329053\n",
       "instrumentalness            0.251250\n",
       "danceability                0.114065\n",
       "seg_duration_range          0.108852\n",
       "sec_duration_range          0.108852\n",
       "no_unique_timbres           0.092563\n",
       "sec_loudness_range          0.081960\n",
       "mode                        0.061590\n",
       "energy                      0.058372\n",
       "sec_time_signature_range    0.052861\n",
       "tempo                       0.017463\n",
       "valence                     0.003390\n",
       "sec_key_range              -0.010562\n",
       "loudness                   -0.015625\n",
       "mean_pitch                 -0.028619\n",
       "no_unique_pitches          -0.035643\n",
       "liveness                   -0.089661\n",
       "no_segments                -0.115609\n",
       "time_signature             -0.116930\n",
       "duration_ms                -0.128549\n",
       "no_sections                -0.138953\n",
       "sec_mode_range             -0.157948\n",
       "dtype: float64"
      ]
     },
     "metadata": {},
     "output_type": "display_data"
    },
    {
     "data": {
      "text/plain": [
       "acousticness                0.216626\n",
       "danceability                0.172938\n",
       "seg_duration_range          0.169953\n",
       "sec_duration_range          0.169953\n",
       "valence                     0.128454\n",
       "duration_ms                 0.075024\n",
       "no_segments                 0.074063\n",
       "no_unique_timbres           0.069772\n",
       "speechiness                 0.062989\n",
       "sec_mode_range              0.059649\n",
       "no_sections                 0.042469\n",
       "loudness                    0.025511\n",
       "instrumentalness            0.023939\n",
       "energy                     -0.006860\n",
       "tempo                      -0.027363\n",
       "sec_time_signature_range   -0.028186\n",
       "sec_tempo_range            -0.104321\n",
       "sec_loudness_range         -0.129189\n",
       "no_unique_pitches          -0.130168\n",
       "sec_key_range              -0.131056\n",
       "mean_pitch                 -0.135463\n",
       "liveness                   -0.189977\n",
       "key                        -0.292624\n",
       "time_signature             -0.481735\n",
       "mode                       -0.528255\n",
       "dtype: float64"
      ]
     },
     "metadata": {},
     "output_type": "display_data"
    },
    {
     "data": {
      "text/plain": [
       "tempo                       0.538233\n",
       "instrumentalness            0.323774\n",
       "liveness                    0.252911\n",
       "no_sections                 0.222305\n",
       "duration_ms                 0.201829\n",
       "no_segments                 0.168685\n",
       "time_signature              0.109192\n",
       "sec_loudness_range          0.085694\n",
       "sec_tempo_range             0.064083\n",
       "speechiness                 0.031777\n",
       "key                         0.031099\n",
       "sec_time_signature_range   -0.041637\n",
       "no_unique_timbres          -0.051004\n",
       "acousticness               -0.068393\n",
       "valence                    -0.073274\n",
       "seg_duration_range         -0.086646\n",
       "sec_duration_range         -0.086646\n",
       "loudness                   -0.094298\n",
       "energy                     -0.107601\n",
       "sec_key_range              -0.113990\n",
       "danceability               -0.129621\n",
       "sec_mode_range             -0.157457\n",
       "no_unique_pitches          -0.165856\n",
       "mean_pitch                 -0.169391\n",
       "mode                       -0.237519\n",
       "dtype: float64"
      ]
     },
     "metadata": {},
     "output_type": "display_data"
    },
    {
     "data": {
      "text/plain": [
       "speechiness                 0.307166\n",
       "instrumentalness            0.240827\n",
       "sec_loudness_range          0.153788\n",
       "no_sections                 0.127491\n",
       "duration_ms                 0.091810\n",
       "no_segments                 0.074082\n",
       "danceability                0.048997\n",
       "time_signature              0.044365\n",
       "energy                      0.042757\n",
       "no_unique_timbres           0.011960\n",
       "loudness                    0.004706\n",
       "mean_pitch                  0.001791\n",
       "sec_key_range               0.000403\n",
       "no_unique_pitches          -0.003515\n",
       "sec_time_signature_range   -0.014449\n",
       "valence                    -0.018187\n",
       "key                        -0.047761\n",
       "mode                       -0.049582\n",
       "sec_tempo_range            -0.094034\n",
       "sec_mode_range             -0.142715\n",
       "tempo                      -0.224087\n",
       "sec_duration_range         -0.244742\n",
       "seg_duration_range         -0.244742\n",
       "acousticness               -0.311206\n",
       "liveness                   -0.494679\n",
       "dtype: float64"
      ]
     },
     "metadata": {},
     "output_type": "display_data"
    },
    {
     "data": {
      "text/plain": [
       "seg_duration_range          0.285268\n",
       "sec_duration_range          0.285268\n",
       "tempo                       0.280192\n",
       "instrumentalness            0.212525\n",
       "key                         0.145292\n",
       "speechiness                 0.137962\n",
       "mode                        0.070595\n",
       "mean_pitch                  0.066185\n",
       "no_unique_pitches           0.065959\n",
       "energy                      0.047422\n",
       "sec_key_range               0.031114\n",
       "sec_mode_range              0.010497\n",
       "time_signature             -0.023105\n",
       "no_unique_timbres          -0.049913\n",
       "loudness                   -0.054154\n",
       "sec_time_signature_range   -0.069288\n",
       "sec_loudness_range         -0.108910\n",
       "duration_ms                -0.123280\n",
       "danceability               -0.132031\n",
       "no_segments                -0.147953\n",
       "acousticness               -0.157471\n",
       "valence                    -0.162697\n",
       "no_sections                -0.187026\n",
       "liveness                   -0.196092\n",
       "sec_tempo_range            -0.426690\n",
       "dtype: float64"
      ]
     },
     "metadata": {},
     "output_type": "display_data"
    },
    {
     "data": {
      "text/plain": [
       "loudness                    0.285219\n",
       "sec_time_signature_range    0.235303\n",
       "acousticness                0.207693\n",
       "energy                      0.117196\n",
       "no_unique_pitches           0.088042\n",
       "time_signature              0.087284\n",
       "mean_pitch                  0.080814\n",
       "tempo                       0.067465\n",
       "no_unique_timbres           0.050674\n",
       "speechiness                 0.049156\n",
       "key                         0.005320\n",
       "no_segments                -0.024052\n",
       "sec_loudness_range         -0.030320\n",
       "no_sections                -0.041593\n",
       "duration_ms                -0.049594\n",
       "liveness                   -0.077509\n",
       "sec_duration_range         -0.077881\n",
       "seg_duration_range         -0.077881\n",
       "sec_tempo_range            -0.096114\n",
       "mode                       -0.170477\n",
       "sec_key_range              -0.213868\n",
       "valence                    -0.222584\n",
       "danceability               -0.243357\n",
       "instrumentalness           -0.248617\n",
       "sec_mode_range             -0.335095\n",
       "dtype: float64"
      ]
     },
     "metadata": {},
     "output_type": "display_data"
    },
    {
     "data": {
      "text/plain": [
       "sec_loudness_range          0.514855\n",
       "sec_key_range               0.183624\n",
       "liveness                    0.118131\n",
       "acousticness                0.073237\n",
       "danceability                0.071090\n",
       "loudness                    0.059554\n",
       "seg_duration_range          0.037287\n",
       "sec_duration_range          0.037287\n",
       "speechiness                 0.026707\n",
       "no_unique_pitches          -0.011413\n",
       "no_unique_timbres          -0.021642\n",
       "mean_pitch                 -0.022620\n",
       "key                        -0.031772\n",
       "tempo                      -0.035402\n",
       "duration_ms                -0.044910\n",
       "no_sections                -0.055944\n",
       "mode                       -0.060784\n",
       "no_segments                -0.074866\n",
       "time_signature             -0.077733\n",
       "valence                    -0.088396\n",
       "energy                     -0.089894\n",
       "instrumentalness           -0.113140\n",
       "sec_tempo_range            -0.140669\n",
       "sec_mode_range             -0.199178\n",
       "sec_time_signature_range   -0.286190\n",
       "dtype: float64"
      ]
     },
     "metadata": {},
     "output_type": "display_data"
    },
    {
     "data": {
      "text/plain": [
       "sec_mode_range              0.314300\n",
       "loudness                    0.278825\n",
       "mode                        0.159182\n",
       "sec_loudness_range          0.097076\n",
       "speechiness                 0.093453\n",
       "energy                      0.090195\n",
       "duration_ms                 0.077928\n",
       "acousticness                0.076733\n",
       "no_sections                 0.067155\n",
       "key                         0.051460\n",
       "no_segments                 0.047608\n",
       "sec_key_range               0.023511\n",
       "sec_time_signature_range    0.020041\n",
       "tempo                       0.017742\n",
       "sec_duration_range          0.017731\n",
       "seg_duration_range          0.017731\n",
       "time_signature              0.009297\n",
       "sec_tempo_range            -0.029598\n",
       "instrumentalness           -0.087973\n",
       "no_unique_timbres          -0.091599\n",
       "liveness                   -0.091624\n",
       "danceability               -0.106107\n",
       "valence                    -0.134147\n",
       "no_unique_pitches          -0.291377\n",
       "mean_pitch                 -0.294939\n",
       "dtype: float64"
      ]
     },
     "metadata": {},
     "output_type": "display_data"
    },
    {
     "data": {
      "text/plain": [
       "sec_mode_range              0.149674\n",
       "mean_pitch                  0.139685\n",
       "no_unique_pitches           0.134375\n",
       "sec_tempo_range             0.084233\n",
       "speechiness                 0.055921\n",
       "no_segments                 0.053726\n",
       "no_sections                 0.045711\n",
       "key                         0.040188\n",
       "acousticness                0.040133\n",
       "duration_ms                 0.038488\n",
       "mode                        0.036889\n",
       "no_unique_timbres           0.035286\n",
       "loudness                    0.012140\n",
       "liveness                   -0.006285\n",
       "energy                     -0.012831\n",
       "instrumentalness           -0.032272\n",
       "tempo                      -0.032546\n",
       "seg_duration_range         -0.049423\n",
       "sec_duration_range         -0.049423\n",
       "sec_loudness_range         -0.064436\n",
       "time_signature             -0.084935\n",
       "valence                    -0.142756\n",
       "danceability               -0.142965\n",
       "sec_key_range              -0.304554\n",
       "sec_time_signature_range   -0.462283\n",
       "dtype: float64"
      ]
     },
     "metadata": {},
     "output_type": "display_data"
    },
    {
     "data": {
      "text/plain": [
       "sec_loudness_range          0.313076\n",
       "sec_time_signature_range    0.218638\n",
       "sec_mode_range              0.186284\n",
       "danceability                0.141648\n",
       "valence                     0.077699\n",
       "key                         0.052992\n",
       "no_unique_timbres           0.048087\n",
       "mean_pitch                  0.042522\n",
       "instrumentalness            0.041472\n",
       "no_unique_pitches           0.039581\n",
       "mode                        0.029416\n",
       "liveness                    0.028566\n",
       "tempo                       0.020878\n",
       "time_signature              0.013131\n",
       "sec_duration_range          0.006296\n",
       "seg_duration_range          0.006296\n",
       "acousticness               -0.027035\n",
       "speechiness                -0.031588\n",
       "duration_ms                -0.044099\n",
       "loudness                   -0.051823\n",
       "no_sections                -0.052044\n",
       "no_segments                -0.052900\n",
       "energy                     -0.058469\n",
       "sec_tempo_range            -0.102918\n",
       "sec_key_range              -0.429447\n",
       "dtype: float64"
      ]
     },
     "metadata": {},
     "output_type": "display_data"
    },
    {
     "data": {
      "text/plain": [
       "valence                     0.207528\n",
       "acousticness                0.185013\n",
       "speechiness                 0.104899\n",
       "mean_pitch                  0.100150\n",
       "no_unique_pitches           0.079282\n",
       "sec_loudness_range          0.073152\n",
       "energy                      0.064011\n",
       "no_sections                 0.056526\n",
       "duration_ms                 0.052856\n",
       "no_segments                 0.042002\n",
       "sec_mode_range              0.036925\n",
       "sec_time_signature_range    0.032805\n",
       "sec_key_range               0.018556\n",
       "key                         0.007339\n",
       "time_signature             -0.001063\n",
       "seg_duration_range         -0.006795\n",
       "sec_duration_range         -0.006795\n",
       "tempo                      -0.007995\n",
       "mode                       -0.010731\n",
       "instrumentalness           -0.028514\n",
       "liveness                   -0.033036\n",
       "sec_tempo_range            -0.050661\n",
       "loudness                   -0.140381\n",
       "danceability               -0.166892\n",
       "no_unique_timbres          -0.405149\n",
       "dtype: float64"
      ]
     },
     "metadata": {},
     "output_type": "display_data"
    },
    {
     "data": {
      "text/plain": [
       "no_unique_timbres           0.250160\n",
       "valence                     0.218279\n",
       "energy                      0.171935\n",
       "sec_loudness_range          0.075949\n",
       "sec_key_range               0.010015\n",
       "tempo                       0.001665\n",
       "time_signature              0.001157\n",
       "mode                        0.000680\n",
       "sec_mode_range              0.000226\n",
       "acousticness                0.000058\n",
       "key                        -0.001304\n",
       "liveness                   -0.006866\n",
       "seg_duration_range         -0.008959\n",
       "sec_duration_range         -0.008959\n",
       "speechiness                -0.014235\n",
       "instrumentalness           -0.014926\n",
       "no_segments                -0.019059\n",
       "sec_tempo_range            -0.025852\n",
       "duration_ms                -0.028675\n",
       "no_sections                -0.032285\n",
       "sec_time_signature_range   -0.045200\n",
       "no_unique_pitches          -0.062104\n",
       "mean_pitch                 -0.062593\n",
       "loudness                   -0.102671\n",
       "danceability               -0.246450\n",
       "dtype: float64"
      ]
     },
     "metadata": {},
     "output_type": "display_data"
    },
    {
     "data": {
      "text/plain": [
       "loudness                    0.227695\n",
       "valence                     0.204116\n",
       "speechiness                 0.072081\n",
       "instrumentalness            0.040276\n",
       "no_unique_pitches           0.039218\n",
       "no_unique_timbres           0.026821\n",
       "mean_pitch                  0.016803\n",
       "sec_key_range               0.015251\n",
       "sec_mode_range              0.012867\n",
       "liveness                    0.010509\n",
       "sec_duration_range          0.008373\n",
       "seg_duration_range          0.008373\n",
       "time_signature              0.006409\n",
       "key                         0.005784\n",
       "mode                       -0.000480\n",
       "sec_time_signature_range   -0.001210\n",
       "sec_tempo_range            -0.002124\n",
       "tempo                      -0.003004\n",
       "no_sections                -0.022017\n",
       "no_segments                -0.022925\n",
       "duration_ms                -0.024478\n",
       "sec_loudness_range         -0.027263\n",
       "acousticness               -0.034708\n",
       "danceability               -0.121933\n",
       "energy                     -0.306142\n",
       "dtype: float64"
      ]
     },
     "metadata": {},
     "output_type": "display_data"
    },
    {
     "data": {
      "text/plain": [
       "no_segments                 0.137755\n",
       "sec_loudness_range          0.006799\n",
       "no_unique_pitches           0.005691\n",
       "instrumentalness            0.003667\n",
       "sec_key_range               0.002935\n",
       "sec_time_signature_range    0.001251\n",
       "sec_mode_range              0.001031\n",
       "speechiness                 0.000521\n",
       "mode                        0.000477\n",
       "tempo                      -0.000065\n",
       "time_signature             -0.000099\n",
       "sec_tempo_range            -0.000312\n",
       "liveness                   -0.000327\n",
       "key                        -0.000916\n",
       "danceability               -0.002029\n",
       "acousticness               -0.002151\n",
       "loudness                   -0.003230\n",
       "valence                    -0.004028\n",
       "energy                     -0.005475\n",
       "no_unique_timbres          -0.005854\n",
       "seg_duration_range         -0.006166\n",
       "sec_duration_range         -0.006166\n",
       "mean_pitch                 -0.012532\n",
       "duration_ms                -0.024889\n",
       "no_sections                -0.104840\n",
       "dtype: float64"
      ]
     },
     "metadata": {},
     "output_type": "display_data"
    },
    {
     "data": {
      "text/plain": [
       "duration_ms                 0.088979\n",
       "mean_pitch                  0.013958\n",
       "no_unique_timbres           0.002244\n",
       "sec_tempo_range             0.002203\n",
       "tempo                       0.001259\n",
       "sec_key_range               0.001173\n",
       "acousticness                0.001137\n",
       "valence                     0.001084\n",
       "loudness                    0.000831\n",
       "danceability                0.000728\n",
       "sec_time_signature_range    0.000496\n",
       "key                         0.000099\n",
       "sec_mode_range              0.000089\n",
       "mode                        0.000049\n",
       "time_signature              0.000037\n",
       "liveness                   -0.000336\n",
       "speechiness                -0.000451\n",
       "energy                     -0.000591\n",
       "sec_loudness_range         -0.001233\n",
       "instrumentalness           -0.001286\n",
       "sec_duration_range         -0.005432\n",
       "seg_duration_range         -0.005432\n",
       "no_unique_pitches          -0.009596\n",
       "no_segments                -0.027486\n",
       "no_sections                -0.059083\n",
       "dtype: float64"
      ]
     },
     "metadata": {},
     "output_type": "display_data"
    },
    {
     "data": {
      "text/plain": [
       "mean_pitch                  0.058053\n",
       "no_segments                 0.007873\n",
       "no_sections                 0.002837\n",
       "loudness                    0.001534\n",
       "no_unique_timbres           0.001226\n",
       "sec_duration_range          0.000711\n",
       "seg_duration_range          0.000711\n",
       "sec_loudness_range          0.000587\n",
       "tempo                       0.000439\n",
       "sec_key_range               0.000408\n",
       "sec_time_signature_range   -0.000045\n",
       "mode                       -0.000078\n",
       "valence                    -0.000095\n",
       "key                        -0.000144\n",
       "time_signature             -0.000268\n",
       "sec_tempo_range            -0.000319\n",
       "liveness                   -0.000416\n",
       "instrumentalness           -0.000438\n",
       "speechiness                -0.000592\n",
       "sec_mode_range             -0.000680\n",
       "danceability               -0.000685\n",
       "acousticness               -0.000719\n",
       "energy                     -0.003095\n",
       "duration_ms                -0.011226\n",
       "no_unique_pitches          -0.059963\n",
       "dtype: float64"
      ]
     },
     "metadata": {},
     "output_type": "display_data"
    },
    {
     "data": {
      "text/plain": [
       "sec_duration_range          1.491177e-16\n",
       "no_unique_pitches           1.258358e-31\n",
       "danceability                5.837598e-32\n",
       "sec_loudness_range          4.607847e-32\n",
       "key                         4.346788e-32\n",
       "mode                        2.167634e-32\n",
       "valence                     1.270690e-32\n",
       "duration_ms                 8.771819e-33\n",
       "acousticness                7.385748e-33\n",
       "sec_mode_range              4.980962e-33\n",
       "speechiness                 3.739985e-33\n",
       "no_unique_timbres           2.697191e-33\n",
       "liveness                   -4.435253e-33\n",
       "instrumentalness           -5.672395e-33\n",
       "energy                     -5.702678e-33\n",
       "no_segments                -9.216181e-33\n",
       "sec_key_range              -1.090009e-32\n",
       "loudness                   -1.365891e-32\n",
       "sec_tempo_range            -1.659866e-32\n",
       "sec_time_signature_range   -1.818433e-32\n",
       "no_sections                -2.274413e-32\n",
       "tempo                      -2.908815e-32\n",
       "time_signature             -3.397054e-32\n",
       "mean_pitch                 -1.090607e-31\n",
       "seg_duration_range         -1.491177e-16\n",
       "dtype: float64"
      ]
     },
     "metadata": {},
     "output_type": "display_data"
    }
   ],
   "source": [
    "eig_values = pca.explained_variance_\n",
    "eig_vectors = pca.components_\n",
    "\n",
    "loading_scores = [eig_vectors[i] * np.sqrt(eig_values[i]) for i in range(len(pca.components_))]\n",
    "for score in loading_scores:\n",
    "    display(pd.Series(score, index=X.columns).sort_values(ascending=False))"
   ]
  },
  {
   "cell_type": "markdown",
   "metadata": {},
   "source": [
    "### Regularization"
   ]
  },
  {
   "cell_type": "code",
   "execution_count": 211,
   "metadata": {},
   "outputs": [
    {
     "name": "stderr",
     "output_type": "stream",
     "text": [
      "/Users/hannah/anaconda3/lib/python3.7/site-packages/sklearn/linear_model/logistic.py:433: FutureWarning: Default solver will be changed to 'lbfgs' in 0.22. Specify a solver to silence this warning.\n",
      "  FutureWarning)\n"
     ]
    },
    {
     "data": {
      "text/plain": [
       "array([False, False,  True, False, False, False,  True, False, False,\n",
       "       False, False, False, False,  True,  True, False, False, False,\n",
       "       False, False, False, False,  True,  True,  True])"
      ]
     },
     "execution_count": 211,
     "metadata": {},
     "output_type": "execute_result"
    }
   ],
   "source": [
    "from sklearn.feature_selection import SelectFromModel\n",
    "\n",
    "X_train, X_test, y_train, y_test = train_test_split(X_scaled, y, \n",
    "                                                    test_size=0.2, \n",
    "                                                    random_state=42)\n",
    "\n",
    "reg = SelectFromModel(LogisticRegression(C=1, penalty='l2'))\n",
    "reg.fit(X_train, y_train)\n",
    "reg.get_support()"
   ]
  },
  {
   "cell_type": "code",
   "execution_count": 217,
   "metadata": {},
   "outputs": [
    {
     "data": {
      "text/plain": [
       "['valence',\n",
       " 'acousticness',\n",
       " 'key',\n",
       " 'loudness',\n",
       " 'mean_pitch',\n",
       " 'mode',\n",
       " 'no_sections']"
      ]
     },
     "execution_count": 217,
     "metadata": {},
     "output_type": "execute_result"
    }
   ],
   "source": [
    "selected = X_train.columns[(reg.get_support() == 1).ravel().tolist()]\n",
    "list(selected)"
   ]
  },
  {
   "cell_type": "code",
   "execution_count": 222,
   "metadata": {},
   "outputs": [],
   "source": [
    "df_selected = X[['valence',\n",
    "                 'acousticness',\n",
    "                 'key',\n",
    "                 'loudness',\n",
    "                 'mean_pitch',\n",
    "                 'mode',\n",
    "                 'no_sections']]"
   ]
  }
 ],
 "metadata": {
  "kernelspec": {
   "display_name": "Python 3",
   "language": "python",
   "name": "python3"
  },
  "language_info": {
   "codemirror_mode": {
    "name": "ipython",
    "version": 3
   },
   "file_extension": ".py",
   "mimetype": "text/x-python",
   "name": "python",
   "nbconvert_exporter": "python",
   "pygments_lexer": "ipython3",
   "version": "3.7.3"
  }
 },
 "nbformat": 4,
 "nbformat_minor": 2
}
